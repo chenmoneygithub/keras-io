{
  "nbformat": 4,
  "nbformat_minor": 0,
  "metadata": {
    "colab": {
      "provenance": []
    },
    "kernelspec": {
      "name": "python3",
      "display_name": "Python 3"
    },
    "language_info": {
      "name": "python"
    },
    "accelerator": "GPU",
    "gpuClass": "standard",
    "widgets": {
      "application/vnd.jupyter.widget-state+json": {
        "78e390a6874a4fd48bed3129e9a452c1": {
          "model_module": "@jupyter-widgets/controls",
          "model_name": "HBoxModel",
          "model_module_version": "1.5.0",
          "state": {
            "_dom_classes": [],
            "_model_module": "@jupyter-widgets/controls",
            "_model_module_version": "1.5.0",
            "_model_name": "HBoxModel",
            "_view_count": null,
            "_view_module": "@jupyter-widgets/controls",
            "_view_module_version": "1.5.0",
            "_view_name": "HBoxView",
            "box_style": "",
            "children": [
              "IPY_MODEL_cd34065d7d3440c8844c44998342307a",
              "IPY_MODEL_2b12d8ff64064425b2cabd13904152a5",
              "IPY_MODEL_9a577e85932543a6af9ccebcda62dc3a"
            ],
            "layout": "IPY_MODEL_da080ddf90a4481289f79a68f9c7508a"
          }
        },
        "cd34065d7d3440c8844c44998342307a": {
          "model_module": "@jupyter-widgets/controls",
          "model_name": "HTMLModel",
          "model_module_version": "1.5.0",
          "state": {
            "_dom_classes": [],
            "_model_module": "@jupyter-widgets/controls",
            "_model_module_version": "1.5.0",
            "_model_name": "HTMLModel",
            "_view_count": null,
            "_view_module": "@jupyter-widgets/controls",
            "_view_module_version": "1.5.0",
            "_view_name": "HTMLView",
            "description": "",
            "description_tooltip": null,
            "layout": "IPY_MODEL_04027d6044684e6eb985a7d670afd862",
            "placeholder": "​",
            "style": "IPY_MODEL_9479d45833744143811673094e3c710a",
            "value": "Dl Completed...: 100%"
          }
        },
        "2b12d8ff64064425b2cabd13904152a5": {
          "model_module": "@jupyter-widgets/controls",
          "model_name": "FloatProgressModel",
          "model_module_version": "1.5.0",
          "state": {
            "_dom_classes": [],
            "_model_module": "@jupyter-widgets/controls",
            "_model_module_version": "1.5.0",
            "_model_name": "FloatProgressModel",
            "_view_count": null,
            "_view_module": "@jupyter-widgets/controls",
            "_view_module_version": "1.5.0",
            "_view_name": "ProgressView",
            "bar_style": "success",
            "description": "",
            "description_tooltip": null,
            "layout": "IPY_MODEL_b592a9b5805642c28fa72915e04fecae",
            "max": 1,
            "min": 0,
            "orientation": "horizontal",
            "style": "IPY_MODEL_7f11eac50bf34f16a35a9d642d1ea460",
            "value": 1
          }
        },
        "9a577e85932543a6af9ccebcda62dc3a": {
          "model_module": "@jupyter-widgets/controls",
          "model_name": "HTMLModel",
          "model_module_version": "1.5.0",
          "state": {
            "_dom_classes": [],
            "_model_module": "@jupyter-widgets/controls",
            "_model_module_version": "1.5.0",
            "_model_name": "HTMLModel",
            "_view_count": null,
            "_view_module": "@jupyter-widgets/controls",
            "_view_module_version": "1.5.0",
            "_view_name": "HTMLView",
            "description": "",
            "description_tooltip": null,
            "layout": "IPY_MODEL_0187b8ef0c92477ebb0007b0c638efe7",
            "placeholder": "​",
            "style": "IPY_MODEL_bcf85f9d9ac74ceb8093a0b30775d99d",
            "value": " 3/3 [00:01&lt;00:00,  2.12 url/s]"
          }
        },
        "da080ddf90a4481289f79a68f9c7508a": {
          "model_module": "@jupyter-widgets/base",
          "model_name": "LayoutModel",
          "model_module_version": "1.2.0",
          "state": {
            "_model_module": "@jupyter-widgets/base",
            "_model_module_version": "1.2.0",
            "_model_name": "LayoutModel",
            "_view_count": null,
            "_view_module": "@jupyter-widgets/base",
            "_view_module_version": "1.2.0",
            "_view_name": "LayoutView",
            "align_content": null,
            "align_items": null,
            "align_self": null,
            "border": null,
            "bottom": null,
            "display": null,
            "flex": null,
            "flex_flow": null,
            "grid_area": null,
            "grid_auto_columns": null,
            "grid_auto_flow": null,
            "grid_auto_rows": null,
            "grid_column": null,
            "grid_gap": null,
            "grid_row": null,
            "grid_template_areas": null,
            "grid_template_columns": null,
            "grid_template_rows": null,
            "height": null,
            "justify_content": null,
            "justify_items": null,
            "left": null,
            "margin": null,
            "max_height": null,
            "max_width": null,
            "min_height": null,
            "min_width": null,
            "object_fit": null,
            "object_position": null,
            "order": null,
            "overflow": null,
            "overflow_x": null,
            "overflow_y": null,
            "padding": null,
            "right": null,
            "top": null,
            "visibility": null,
            "width": null
          }
        },
        "04027d6044684e6eb985a7d670afd862": {
          "model_module": "@jupyter-widgets/base",
          "model_name": "LayoutModel",
          "model_module_version": "1.2.0",
          "state": {
            "_model_module": "@jupyter-widgets/base",
            "_model_module_version": "1.2.0",
            "_model_name": "LayoutModel",
            "_view_count": null,
            "_view_module": "@jupyter-widgets/base",
            "_view_module_version": "1.2.0",
            "_view_name": "LayoutView",
            "align_content": null,
            "align_items": null,
            "align_self": null,
            "border": null,
            "bottom": null,
            "display": null,
            "flex": null,
            "flex_flow": null,
            "grid_area": null,
            "grid_auto_columns": null,
            "grid_auto_flow": null,
            "grid_auto_rows": null,
            "grid_column": null,
            "grid_gap": null,
            "grid_row": null,
            "grid_template_areas": null,
            "grid_template_columns": null,
            "grid_template_rows": null,
            "height": null,
            "justify_content": null,
            "justify_items": null,
            "left": null,
            "margin": null,
            "max_height": null,
            "max_width": null,
            "min_height": null,
            "min_width": null,
            "object_fit": null,
            "object_position": null,
            "order": null,
            "overflow": null,
            "overflow_x": null,
            "overflow_y": null,
            "padding": null,
            "right": null,
            "top": null,
            "visibility": null,
            "width": null
          }
        },
        "9479d45833744143811673094e3c710a": {
          "model_module": "@jupyter-widgets/controls",
          "model_name": "DescriptionStyleModel",
          "model_module_version": "1.5.0",
          "state": {
            "_model_module": "@jupyter-widgets/controls",
            "_model_module_version": "1.5.0",
            "_model_name": "DescriptionStyleModel",
            "_view_count": null,
            "_view_module": "@jupyter-widgets/base",
            "_view_module_version": "1.2.0",
            "_view_name": "StyleView",
            "description_width": ""
          }
        },
        "b592a9b5805642c28fa72915e04fecae": {
          "model_module": "@jupyter-widgets/base",
          "model_name": "LayoutModel",
          "model_module_version": "1.2.0",
          "state": {
            "_model_module": "@jupyter-widgets/base",
            "_model_module_version": "1.2.0",
            "_model_name": "LayoutModel",
            "_view_count": null,
            "_view_module": "@jupyter-widgets/base",
            "_view_module_version": "1.2.0",
            "_view_name": "LayoutView",
            "align_content": null,
            "align_items": null,
            "align_self": null,
            "border": null,
            "bottom": null,
            "display": null,
            "flex": null,
            "flex_flow": null,
            "grid_area": null,
            "grid_auto_columns": null,
            "grid_auto_flow": null,
            "grid_auto_rows": null,
            "grid_column": null,
            "grid_gap": null,
            "grid_row": null,
            "grid_template_areas": null,
            "grid_template_columns": null,
            "grid_template_rows": null,
            "height": null,
            "justify_content": null,
            "justify_items": null,
            "left": null,
            "margin": null,
            "max_height": null,
            "max_width": null,
            "min_height": null,
            "min_width": null,
            "object_fit": null,
            "object_position": null,
            "order": null,
            "overflow": null,
            "overflow_x": null,
            "overflow_y": null,
            "padding": null,
            "right": null,
            "top": null,
            "visibility": null,
            "width": "20px"
          }
        },
        "7f11eac50bf34f16a35a9d642d1ea460": {
          "model_module": "@jupyter-widgets/controls",
          "model_name": "ProgressStyleModel",
          "model_module_version": "1.5.0",
          "state": {
            "_model_module": "@jupyter-widgets/controls",
            "_model_module_version": "1.5.0",
            "_model_name": "ProgressStyleModel",
            "_view_count": null,
            "_view_module": "@jupyter-widgets/base",
            "_view_module_version": "1.2.0",
            "_view_name": "StyleView",
            "bar_color": null,
            "description_width": ""
          }
        },
        "0187b8ef0c92477ebb0007b0c638efe7": {
          "model_module": "@jupyter-widgets/base",
          "model_name": "LayoutModel",
          "model_module_version": "1.2.0",
          "state": {
            "_model_module": "@jupyter-widgets/base",
            "_model_module_version": "1.2.0",
            "_model_name": "LayoutModel",
            "_view_count": null,
            "_view_module": "@jupyter-widgets/base",
            "_view_module_version": "1.2.0",
            "_view_name": "LayoutView",
            "align_content": null,
            "align_items": null,
            "align_self": null,
            "border": null,
            "bottom": null,
            "display": null,
            "flex": null,
            "flex_flow": null,
            "grid_area": null,
            "grid_auto_columns": null,
            "grid_auto_flow": null,
            "grid_auto_rows": null,
            "grid_column": null,
            "grid_gap": null,
            "grid_row": null,
            "grid_template_areas": null,
            "grid_template_columns": null,
            "grid_template_rows": null,
            "height": null,
            "justify_content": null,
            "justify_items": null,
            "left": null,
            "margin": null,
            "max_height": null,
            "max_width": null,
            "min_height": null,
            "min_width": null,
            "object_fit": null,
            "object_position": null,
            "order": null,
            "overflow": null,
            "overflow_x": null,
            "overflow_y": null,
            "padding": null,
            "right": null,
            "top": null,
            "visibility": null,
            "width": null
          }
        },
        "bcf85f9d9ac74ceb8093a0b30775d99d": {
          "model_module": "@jupyter-widgets/controls",
          "model_name": "DescriptionStyleModel",
          "model_module_version": "1.5.0",
          "state": {
            "_model_module": "@jupyter-widgets/controls",
            "_model_module_version": "1.5.0",
            "_model_name": "DescriptionStyleModel",
            "_view_count": null,
            "_view_module": "@jupyter-widgets/base",
            "_view_module_version": "1.2.0",
            "_view_name": "StyleView",
            "description_width": ""
          }
        },
        "9b35a14c6c52465ba67c514f397b2742": {
          "model_module": "@jupyter-widgets/controls",
          "model_name": "HBoxModel",
          "model_module_version": "1.5.0",
          "state": {
            "_dom_classes": [],
            "_model_module": "@jupyter-widgets/controls",
            "_model_module_version": "1.5.0",
            "_model_name": "HBoxModel",
            "_view_count": null,
            "_view_module": "@jupyter-widgets/controls",
            "_view_module_version": "1.5.0",
            "_view_name": "HBoxView",
            "box_style": "",
            "children": [
              "IPY_MODEL_faddeade57384d888212e597e0f7d405",
              "IPY_MODEL_d0c68187a6154a02a4a3071085a5bf7d",
              "IPY_MODEL_9e9b303f432a4ac9b9a57ef77e649c73"
            ],
            "layout": "IPY_MODEL_7315f51f814d4b28abaa173d2d001817"
          }
        },
        "faddeade57384d888212e597e0f7d405": {
          "model_module": "@jupyter-widgets/controls",
          "model_name": "HTMLModel",
          "model_module_version": "1.5.0",
          "state": {
            "_dom_classes": [],
            "_model_module": "@jupyter-widgets/controls",
            "_model_module_version": "1.5.0",
            "_model_name": "HTMLModel",
            "_view_count": null,
            "_view_module": "@jupyter-widgets/controls",
            "_view_module_version": "1.5.0",
            "_view_name": "HTMLView",
            "description": "",
            "description_tooltip": null,
            "layout": "IPY_MODEL_96ae54e6dd854b86bfc28a874187146a",
            "placeholder": "​",
            "style": "IPY_MODEL_6c5a039513a54a259f9e9127b17eee9c",
            "value": "Dl Size...: "
          }
        },
        "d0c68187a6154a02a4a3071085a5bf7d": {
          "model_module": "@jupyter-widgets/controls",
          "model_name": "FloatProgressModel",
          "model_module_version": "1.5.0",
          "state": {
            "_dom_classes": [],
            "_model_module": "@jupyter-widgets/controls",
            "_model_module_version": "1.5.0",
            "_model_name": "FloatProgressModel",
            "_view_count": null,
            "_view_module": "@jupyter-widgets/controls",
            "_view_module_version": "1.5.0",
            "_view_name": "ProgressView",
            "bar_style": "success",
            "description": "",
            "description_tooltip": null,
            "layout": "IPY_MODEL_ad3575cf46b64f4cb30cc400da95a3ff",
            "max": 1,
            "min": 0,
            "orientation": "horizontal",
            "style": "IPY_MODEL_37c950acfddf46c5818cc5725fe37dc3",
            "value": 0
          }
        },
        "9e9b303f432a4ac9b9a57ef77e649c73": {
          "model_module": "@jupyter-widgets/controls",
          "model_name": "HTMLModel",
          "model_module_version": "1.5.0",
          "state": {
            "_dom_classes": [],
            "_model_module": "@jupyter-widgets/controls",
            "_model_module_version": "1.5.0",
            "_model_name": "HTMLModel",
            "_view_count": null,
            "_view_module": "@jupyter-widgets/controls",
            "_view_module_version": "1.5.0",
            "_view_name": "HTMLView",
            "description": "",
            "description_tooltip": null,
            "layout": "IPY_MODEL_dafc7845964545aaaf4cb95b414a4b70",
            "placeholder": "​",
            "style": "IPY_MODEL_6097edfc0b564e1aa3b94040468ba1f2",
            "value": " 0/0 [00:01&lt;?, ? MiB/s]"
          }
        },
        "7315f51f814d4b28abaa173d2d001817": {
          "model_module": "@jupyter-widgets/base",
          "model_name": "LayoutModel",
          "model_module_version": "1.2.0",
          "state": {
            "_model_module": "@jupyter-widgets/base",
            "_model_module_version": "1.2.0",
            "_model_name": "LayoutModel",
            "_view_count": null,
            "_view_module": "@jupyter-widgets/base",
            "_view_module_version": "1.2.0",
            "_view_name": "LayoutView",
            "align_content": null,
            "align_items": null,
            "align_self": null,
            "border": null,
            "bottom": null,
            "display": null,
            "flex": null,
            "flex_flow": null,
            "grid_area": null,
            "grid_auto_columns": null,
            "grid_auto_flow": null,
            "grid_auto_rows": null,
            "grid_column": null,
            "grid_gap": null,
            "grid_row": null,
            "grid_template_areas": null,
            "grid_template_columns": null,
            "grid_template_rows": null,
            "height": null,
            "justify_content": null,
            "justify_items": null,
            "left": null,
            "margin": null,
            "max_height": null,
            "max_width": null,
            "min_height": null,
            "min_width": null,
            "object_fit": null,
            "object_position": null,
            "order": null,
            "overflow": null,
            "overflow_x": null,
            "overflow_y": null,
            "padding": null,
            "right": null,
            "top": null,
            "visibility": null,
            "width": null
          }
        },
        "96ae54e6dd854b86bfc28a874187146a": {
          "model_module": "@jupyter-widgets/base",
          "model_name": "LayoutModel",
          "model_module_version": "1.2.0",
          "state": {
            "_model_module": "@jupyter-widgets/base",
            "_model_module_version": "1.2.0",
            "_model_name": "LayoutModel",
            "_view_count": null,
            "_view_module": "@jupyter-widgets/base",
            "_view_module_version": "1.2.0",
            "_view_name": "LayoutView",
            "align_content": null,
            "align_items": null,
            "align_self": null,
            "border": null,
            "bottom": null,
            "display": null,
            "flex": null,
            "flex_flow": null,
            "grid_area": null,
            "grid_auto_columns": null,
            "grid_auto_flow": null,
            "grid_auto_rows": null,
            "grid_column": null,
            "grid_gap": null,
            "grid_row": null,
            "grid_template_areas": null,
            "grid_template_columns": null,
            "grid_template_rows": null,
            "height": null,
            "justify_content": null,
            "justify_items": null,
            "left": null,
            "margin": null,
            "max_height": null,
            "max_width": null,
            "min_height": null,
            "min_width": null,
            "object_fit": null,
            "object_position": null,
            "order": null,
            "overflow": null,
            "overflow_x": null,
            "overflow_y": null,
            "padding": null,
            "right": null,
            "top": null,
            "visibility": null,
            "width": null
          }
        },
        "6c5a039513a54a259f9e9127b17eee9c": {
          "model_module": "@jupyter-widgets/controls",
          "model_name": "DescriptionStyleModel",
          "model_module_version": "1.5.0",
          "state": {
            "_model_module": "@jupyter-widgets/controls",
            "_model_module_version": "1.5.0",
            "_model_name": "DescriptionStyleModel",
            "_view_count": null,
            "_view_module": "@jupyter-widgets/base",
            "_view_module_version": "1.2.0",
            "_view_name": "StyleView",
            "description_width": ""
          }
        },
        "ad3575cf46b64f4cb30cc400da95a3ff": {
          "model_module": "@jupyter-widgets/base",
          "model_name": "LayoutModel",
          "model_module_version": "1.2.0",
          "state": {
            "_model_module": "@jupyter-widgets/base",
            "_model_module_version": "1.2.0",
            "_model_name": "LayoutModel",
            "_view_count": null,
            "_view_module": "@jupyter-widgets/base",
            "_view_module_version": "1.2.0",
            "_view_name": "LayoutView",
            "align_content": null,
            "align_items": null,
            "align_self": null,
            "border": null,
            "bottom": null,
            "display": null,
            "flex": null,
            "flex_flow": null,
            "grid_area": null,
            "grid_auto_columns": null,
            "grid_auto_flow": null,
            "grid_auto_rows": null,
            "grid_column": null,
            "grid_gap": null,
            "grid_row": null,
            "grid_template_areas": null,
            "grid_template_columns": null,
            "grid_template_rows": null,
            "height": null,
            "justify_content": null,
            "justify_items": null,
            "left": null,
            "margin": null,
            "max_height": null,
            "max_width": null,
            "min_height": null,
            "min_width": null,
            "object_fit": null,
            "object_position": null,
            "order": null,
            "overflow": null,
            "overflow_x": null,
            "overflow_y": null,
            "padding": null,
            "right": null,
            "top": null,
            "visibility": null,
            "width": "20px"
          }
        },
        "37c950acfddf46c5818cc5725fe37dc3": {
          "model_module": "@jupyter-widgets/controls",
          "model_name": "ProgressStyleModel",
          "model_module_version": "1.5.0",
          "state": {
            "_model_module": "@jupyter-widgets/controls",
            "_model_module_version": "1.5.0",
            "_model_name": "ProgressStyleModel",
            "_view_count": null,
            "_view_module": "@jupyter-widgets/base",
            "_view_module_version": "1.2.0",
            "_view_name": "StyleView",
            "bar_color": null,
            "description_width": ""
          }
        },
        "dafc7845964545aaaf4cb95b414a4b70": {
          "model_module": "@jupyter-widgets/base",
          "model_name": "LayoutModel",
          "model_module_version": "1.2.0",
          "state": {
            "_model_module": "@jupyter-widgets/base",
            "_model_module_version": "1.2.0",
            "_model_name": "LayoutModel",
            "_view_count": null,
            "_view_module": "@jupyter-widgets/base",
            "_view_module_version": "1.2.0",
            "_view_name": "LayoutView",
            "align_content": null,
            "align_items": null,
            "align_self": null,
            "border": null,
            "bottom": null,
            "display": null,
            "flex": null,
            "flex_flow": null,
            "grid_area": null,
            "grid_auto_columns": null,
            "grid_auto_flow": null,
            "grid_auto_rows": null,
            "grid_column": null,
            "grid_gap": null,
            "grid_row": null,
            "grid_template_areas": null,
            "grid_template_columns": null,
            "grid_template_rows": null,
            "height": null,
            "justify_content": null,
            "justify_items": null,
            "left": null,
            "margin": null,
            "max_height": null,
            "max_width": null,
            "min_height": null,
            "min_width": null,
            "object_fit": null,
            "object_position": null,
            "order": null,
            "overflow": null,
            "overflow_x": null,
            "overflow_y": null,
            "padding": null,
            "right": null,
            "top": null,
            "visibility": null,
            "width": null
          }
        },
        "6097edfc0b564e1aa3b94040468ba1f2": {
          "model_module": "@jupyter-widgets/controls",
          "model_name": "DescriptionStyleModel",
          "model_module_version": "1.5.0",
          "state": {
            "_model_module": "@jupyter-widgets/controls",
            "_model_module_version": "1.5.0",
            "_model_name": "DescriptionStyleModel",
            "_view_count": null,
            "_view_module": "@jupyter-widgets/base",
            "_view_module_version": "1.2.0",
            "_view_name": "StyleView",
            "description_width": ""
          }
        },
        "bc67f9c5a7834d34b83b8b0536f5833a": {
          "model_module": "@jupyter-widgets/controls",
          "model_name": "HBoxModel",
          "model_module_version": "1.5.0",
          "state": {
            "_dom_classes": [],
            "_model_module": "@jupyter-widgets/controls",
            "_model_module_version": "1.5.0",
            "_model_name": "HBoxModel",
            "_view_count": null,
            "_view_module": "@jupyter-widgets/controls",
            "_view_module_version": "1.5.0",
            "_view_name": "HBoxView",
            "box_style": "",
            "children": [
              "IPY_MODEL_c4aa430965a940b698b9bc23234afc2e",
              "IPY_MODEL_14cbe5bdf51b41d096b4b4d17b12e224",
              "IPY_MODEL_0a0f40f45cc346fd94e0b9943d2214c7"
            ],
            "layout": "IPY_MODEL_bb9914c3346b41319a79140324ee4548"
          }
        },
        "c4aa430965a940b698b9bc23234afc2e": {
          "model_module": "@jupyter-widgets/controls",
          "model_name": "HTMLModel",
          "model_module_version": "1.5.0",
          "state": {
            "_dom_classes": [],
            "_model_module": "@jupyter-widgets/controls",
            "_model_module_version": "1.5.0",
            "_model_name": "HTMLModel",
            "_view_count": null,
            "_view_module": "@jupyter-widgets/controls",
            "_view_module_version": "1.5.0",
            "_view_name": "HTMLView",
            "description": "",
            "description_tooltip": null,
            "layout": "IPY_MODEL_49c76c46fef44b0792eca1bec81254a0",
            "placeholder": "​",
            "style": "IPY_MODEL_db2a346f6bac4b3a875f2cc396394395",
            "value": "Generating splits...: 100%"
          }
        },
        "14cbe5bdf51b41d096b4b4d17b12e224": {
          "model_module": "@jupyter-widgets/controls",
          "model_name": "FloatProgressModel",
          "model_module_version": "1.5.0",
          "state": {
            "_dom_classes": [],
            "_model_module": "@jupyter-widgets/controls",
            "_model_module_version": "1.5.0",
            "_model_name": "FloatProgressModel",
            "_view_count": null,
            "_view_module": "@jupyter-widgets/controls",
            "_view_module_version": "1.5.0",
            "_view_name": "ProgressView",
            "bar_style": "",
            "description": "",
            "description_tooltip": null,
            "layout": "IPY_MODEL_13023b5d91d54f3ea0149f100d256181",
            "max": 3,
            "min": 0,
            "orientation": "horizontal",
            "style": "IPY_MODEL_6b3cdd2a3cca499ebeed3ef882324fa3",
            "value": 3
          }
        },
        "0a0f40f45cc346fd94e0b9943d2214c7": {
          "model_module": "@jupyter-widgets/controls",
          "model_name": "HTMLModel",
          "model_module_version": "1.5.0",
          "state": {
            "_dom_classes": [],
            "_model_module": "@jupyter-widgets/controls",
            "_model_module_version": "1.5.0",
            "_model_name": "HTMLModel",
            "_view_count": null,
            "_view_module": "@jupyter-widgets/controls",
            "_view_module_version": "1.5.0",
            "_view_name": "HTMLView",
            "description": "",
            "description_tooltip": null,
            "layout": "IPY_MODEL_10a47bafe36849c8933d591f303187b2",
            "placeholder": "​",
            "style": "IPY_MODEL_561131b7c0484f2f9dddbecd482e500c",
            "value": " 3/3 [00:01&lt;00:00,  1.42 splits/s]"
          }
        },
        "bb9914c3346b41319a79140324ee4548": {
          "model_module": "@jupyter-widgets/base",
          "model_name": "LayoutModel",
          "model_module_version": "1.2.0",
          "state": {
            "_model_module": "@jupyter-widgets/base",
            "_model_module_version": "1.2.0",
            "_model_name": "LayoutModel",
            "_view_count": null,
            "_view_module": "@jupyter-widgets/base",
            "_view_module_version": "1.2.0",
            "_view_name": "LayoutView",
            "align_content": null,
            "align_items": null,
            "align_self": null,
            "border": null,
            "bottom": null,
            "display": null,
            "flex": null,
            "flex_flow": null,
            "grid_area": null,
            "grid_auto_columns": null,
            "grid_auto_flow": null,
            "grid_auto_rows": null,
            "grid_column": null,
            "grid_gap": null,
            "grid_row": null,
            "grid_template_areas": null,
            "grid_template_columns": null,
            "grid_template_rows": null,
            "height": null,
            "justify_content": null,
            "justify_items": null,
            "left": null,
            "margin": null,
            "max_height": null,
            "max_width": null,
            "min_height": null,
            "min_width": null,
            "object_fit": null,
            "object_position": null,
            "order": null,
            "overflow": null,
            "overflow_x": null,
            "overflow_y": null,
            "padding": null,
            "right": null,
            "top": null,
            "visibility": "hidden",
            "width": null
          }
        },
        "49c76c46fef44b0792eca1bec81254a0": {
          "model_module": "@jupyter-widgets/base",
          "model_name": "LayoutModel",
          "model_module_version": "1.2.0",
          "state": {
            "_model_module": "@jupyter-widgets/base",
            "_model_module_version": "1.2.0",
            "_model_name": "LayoutModel",
            "_view_count": null,
            "_view_module": "@jupyter-widgets/base",
            "_view_module_version": "1.2.0",
            "_view_name": "LayoutView",
            "align_content": null,
            "align_items": null,
            "align_self": null,
            "border": null,
            "bottom": null,
            "display": null,
            "flex": null,
            "flex_flow": null,
            "grid_area": null,
            "grid_auto_columns": null,
            "grid_auto_flow": null,
            "grid_auto_rows": null,
            "grid_column": null,
            "grid_gap": null,
            "grid_row": null,
            "grid_template_areas": null,
            "grid_template_columns": null,
            "grid_template_rows": null,
            "height": null,
            "justify_content": null,
            "justify_items": null,
            "left": null,
            "margin": null,
            "max_height": null,
            "max_width": null,
            "min_height": null,
            "min_width": null,
            "object_fit": null,
            "object_position": null,
            "order": null,
            "overflow": null,
            "overflow_x": null,
            "overflow_y": null,
            "padding": null,
            "right": null,
            "top": null,
            "visibility": null,
            "width": null
          }
        },
        "db2a346f6bac4b3a875f2cc396394395": {
          "model_module": "@jupyter-widgets/controls",
          "model_name": "DescriptionStyleModel",
          "model_module_version": "1.5.0",
          "state": {
            "_model_module": "@jupyter-widgets/controls",
            "_model_module_version": "1.5.0",
            "_model_name": "DescriptionStyleModel",
            "_view_count": null,
            "_view_module": "@jupyter-widgets/base",
            "_view_module_version": "1.2.0",
            "_view_name": "StyleView",
            "description_width": ""
          }
        },
        "13023b5d91d54f3ea0149f100d256181": {
          "model_module": "@jupyter-widgets/base",
          "model_name": "LayoutModel",
          "model_module_version": "1.2.0",
          "state": {
            "_model_module": "@jupyter-widgets/base",
            "_model_module_version": "1.2.0",
            "_model_name": "LayoutModel",
            "_view_count": null,
            "_view_module": "@jupyter-widgets/base",
            "_view_module_version": "1.2.0",
            "_view_name": "LayoutView",
            "align_content": null,
            "align_items": null,
            "align_self": null,
            "border": null,
            "bottom": null,
            "display": null,
            "flex": null,
            "flex_flow": null,
            "grid_area": null,
            "grid_auto_columns": null,
            "grid_auto_flow": null,
            "grid_auto_rows": null,
            "grid_column": null,
            "grid_gap": null,
            "grid_row": null,
            "grid_template_areas": null,
            "grid_template_columns": null,
            "grid_template_rows": null,
            "height": null,
            "justify_content": null,
            "justify_items": null,
            "left": null,
            "margin": null,
            "max_height": null,
            "max_width": null,
            "min_height": null,
            "min_width": null,
            "object_fit": null,
            "object_position": null,
            "order": null,
            "overflow": null,
            "overflow_x": null,
            "overflow_y": null,
            "padding": null,
            "right": null,
            "top": null,
            "visibility": null,
            "width": null
          }
        },
        "6b3cdd2a3cca499ebeed3ef882324fa3": {
          "model_module": "@jupyter-widgets/controls",
          "model_name": "ProgressStyleModel",
          "model_module_version": "1.5.0",
          "state": {
            "_model_module": "@jupyter-widgets/controls",
            "_model_module_version": "1.5.0",
            "_model_name": "ProgressStyleModel",
            "_view_count": null,
            "_view_module": "@jupyter-widgets/base",
            "_view_module_version": "1.2.0",
            "_view_name": "StyleView",
            "bar_color": null,
            "description_width": ""
          }
        },
        "10a47bafe36849c8933d591f303187b2": {
          "model_module": "@jupyter-widgets/base",
          "model_name": "LayoutModel",
          "model_module_version": "1.2.0",
          "state": {
            "_model_module": "@jupyter-widgets/base",
            "_model_module_version": "1.2.0",
            "_model_name": "LayoutModel",
            "_view_count": null,
            "_view_module": "@jupyter-widgets/base",
            "_view_module_version": "1.2.0",
            "_view_name": "LayoutView",
            "align_content": null,
            "align_items": null,
            "align_self": null,
            "border": null,
            "bottom": null,
            "display": null,
            "flex": null,
            "flex_flow": null,
            "grid_area": null,
            "grid_auto_columns": null,
            "grid_auto_flow": null,
            "grid_auto_rows": null,
            "grid_column": null,
            "grid_gap": null,
            "grid_row": null,
            "grid_template_areas": null,
            "grid_template_columns": null,
            "grid_template_rows": null,
            "height": null,
            "justify_content": null,
            "justify_items": null,
            "left": null,
            "margin": null,
            "max_height": null,
            "max_width": null,
            "min_height": null,
            "min_width": null,
            "object_fit": null,
            "object_position": null,
            "order": null,
            "overflow": null,
            "overflow_x": null,
            "overflow_y": null,
            "padding": null,
            "right": null,
            "top": null,
            "visibility": null,
            "width": null
          }
        },
        "561131b7c0484f2f9dddbecd482e500c": {
          "model_module": "@jupyter-widgets/controls",
          "model_name": "DescriptionStyleModel",
          "model_module_version": "1.5.0",
          "state": {
            "_model_module": "@jupyter-widgets/controls",
            "_model_module_version": "1.5.0",
            "_model_name": "DescriptionStyleModel",
            "_view_count": null,
            "_view_module": "@jupyter-widgets/base",
            "_view_module_version": "1.2.0",
            "_view_name": "StyleView",
            "description_width": ""
          }
        },
        "7e6cae9b54d4444fa4a0f6e67c52dcca": {
          "model_module": "@jupyter-widgets/controls",
          "model_name": "HBoxModel",
          "model_module_version": "1.5.0",
          "state": {
            "_dom_classes": [],
            "_model_module": "@jupyter-widgets/controls",
            "_model_module_version": "1.5.0",
            "_model_name": "HBoxModel",
            "_view_count": null,
            "_view_module": "@jupyter-widgets/controls",
            "_view_module_version": "1.5.0",
            "_view_name": "HBoxView",
            "box_style": "",
            "children": [
              "IPY_MODEL_ec1a0d966f4b44b0811ac667a900e659",
              "IPY_MODEL_013dbc1afe414d96b16f14bd90c6fc5e",
              "IPY_MODEL_3d26ed6fac5c41299baf54aac64e87fa"
            ],
            "layout": "IPY_MODEL_fa123c4a585d425bb1dc8fa36e26f334"
          }
        },
        "ec1a0d966f4b44b0811ac667a900e659": {
          "model_module": "@jupyter-widgets/controls",
          "model_name": "HTMLModel",
          "model_module_version": "1.5.0",
          "state": {
            "_dom_classes": [],
            "_model_module": "@jupyter-widgets/controls",
            "_model_module_version": "1.5.0",
            "_model_name": "HTMLModel",
            "_view_count": null,
            "_view_module": "@jupyter-widgets/controls",
            "_view_module_version": "1.5.0",
            "_view_name": "HTMLView",
            "description": "",
            "description_tooltip": null,
            "layout": "IPY_MODEL_c3c2fca6b61144479e8f3e4b0e982231",
            "placeholder": "​",
            "style": "IPY_MODEL_776694af7ef246b690b15b477819fdfc",
            "value": "Generating train examples...: 100%"
          }
        },
        "013dbc1afe414d96b16f14bd90c6fc5e": {
          "model_module": "@jupyter-widgets/controls",
          "model_name": "FloatProgressModel",
          "model_module_version": "1.5.0",
          "state": {
            "_dom_classes": [],
            "_model_module": "@jupyter-widgets/controls",
            "_model_module_version": "1.5.0",
            "_model_name": "FloatProgressModel",
            "_view_count": null,
            "_view_module": "@jupyter-widgets/controls",
            "_view_module_version": "1.5.0",
            "_view_name": "ProgressView",
            "bar_style": "",
            "description": "",
            "description_tooltip": null,
            "layout": "IPY_MODEL_e19499b6e51e4fada2eadf3c40c83b52",
            "max": 3668,
            "min": 0,
            "orientation": "horizontal",
            "style": "IPY_MODEL_55e1cbc2f023495291cbdf4d66d9a167",
            "value": 3668
          }
        },
        "3d26ed6fac5c41299baf54aac64e87fa": {
          "model_module": "@jupyter-widgets/controls",
          "model_name": "HTMLModel",
          "model_module_version": "1.5.0",
          "state": {
            "_dom_classes": [],
            "_model_module": "@jupyter-widgets/controls",
            "_model_module_version": "1.5.0",
            "_model_name": "HTMLModel",
            "_view_count": null,
            "_view_module": "@jupyter-widgets/controls",
            "_view_module_version": "1.5.0",
            "_view_name": "HTMLView",
            "description": "",
            "description_tooltip": null,
            "layout": "IPY_MODEL_256bd963f50d4e9aa24150ae99706c45",
            "placeholder": "​",
            "style": "IPY_MODEL_c5ded431ce774eeebddffb6f308bafbb",
            "value": " 3653/3668 [00:00&lt;00:00, 6483.10 examples/s]"
          }
        },
        "fa123c4a585d425bb1dc8fa36e26f334": {
          "model_module": "@jupyter-widgets/base",
          "model_name": "LayoutModel",
          "model_module_version": "1.2.0",
          "state": {
            "_model_module": "@jupyter-widgets/base",
            "_model_module_version": "1.2.0",
            "_model_name": "LayoutModel",
            "_view_count": null,
            "_view_module": "@jupyter-widgets/base",
            "_view_module_version": "1.2.0",
            "_view_name": "LayoutView",
            "align_content": null,
            "align_items": null,
            "align_self": null,
            "border": null,
            "bottom": null,
            "display": null,
            "flex": null,
            "flex_flow": null,
            "grid_area": null,
            "grid_auto_columns": null,
            "grid_auto_flow": null,
            "grid_auto_rows": null,
            "grid_column": null,
            "grid_gap": null,
            "grid_row": null,
            "grid_template_areas": null,
            "grid_template_columns": null,
            "grid_template_rows": null,
            "height": null,
            "justify_content": null,
            "justify_items": null,
            "left": null,
            "margin": null,
            "max_height": null,
            "max_width": null,
            "min_height": null,
            "min_width": null,
            "object_fit": null,
            "object_position": null,
            "order": null,
            "overflow": null,
            "overflow_x": null,
            "overflow_y": null,
            "padding": null,
            "right": null,
            "top": null,
            "visibility": "hidden",
            "width": null
          }
        },
        "c3c2fca6b61144479e8f3e4b0e982231": {
          "model_module": "@jupyter-widgets/base",
          "model_name": "LayoutModel",
          "model_module_version": "1.2.0",
          "state": {
            "_model_module": "@jupyter-widgets/base",
            "_model_module_version": "1.2.0",
            "_model_name": "LayoutModel",
            "_view_count": null,
            "_view_module": "@jupyter-widgets/base",
            "_view_module_version": "1.2.0",
            "_view_name": "LayoutView",
            "align_content": null,
            "align_items": null,
            "align_self": null,
            "border": null,
            "bottom": null,
            "display": null,
            "flex": null,
            "flex_flow": null,
            "grid_area": null,
            "grid_auto_columns": null,
            "grid_auto_flow": null,
            "grid_auto_rows": null,
            "grid_column": null,
            "grid_gap": null,
            "grid_row": null,
            "grid_template_areas": null,
            "grid_template_columns": null,
            "grid_template_rows": null,
            "height": null,
            "justify_content": null,
            "justify_items": null,
            "left": null,
            "margin": null,
            "max_height": null,
            "max_width": null,
            "min_height": null,
            "min_width": null,
            "object_fit": null,
            "object_position": null,
            "order": null,
            "overflow": null,
            "overflow_x": null,
            "overflow_y": null,
            "padding": null,
            "right": null,
            "top": null,
            "visibility": null,
            "width": null
          }
        },
        "776694af7ef246b690b15b477819fdfc": {
          "model_module": "@jupyter-widgets/controls",
          "model_name": "DescriptionStyleModel",
          "model_module_version": "1.5.0",
          "state": {
            "_model_module": "@jupyter-widgets/controls",
            "_model_module_version": "1.5.0",
            "_model_name": "DescriptionStyleModel",
            "_view_count": null,
            "_view_module": "@jupyter-widgets/base",
            "_view_module_version": "1.2.0",
            "_view_name": "StyleView",
            "description_width": ""
          }
        },
        "e19499b6e51e4fada2eadf3c40c83b52": {
          "model_module": "@jupyter-widgets/base",
          "model_name": "LayoutModel",
          "model_module_version": "1.2.0",
          "state": {
            "_model_module": "@jupyter-widgets/base",
            "_model_module_version": "1.2.0",
            "_model_name": "LayoutModel",
            "_view_count": null,
            "_view_module": "@jupyter-widgets/base",
            "_view_module_version": "1.2.0",
            "_view_name": "LayoutView",
            "align_content": null,
            "align_items": null,
            "align_self": null,
            "border": null,
            "bottom": null,
            "display": null,
            "flex": null,
            "flex_flow": null,
            "grid_area": null,
            "grid_auto_columns": null,
            "grid_auto_flow": null,
            "grid_auto_rows": null,
            "grid_column": null,
            "grid_gap": null,
            "grid_row": null,
            "grid_template_areas": null,
            "grid_template_columns": null,
            "grid_template_rows": null,
            "height": null,
            "justify_content": null,
            "justify_items": null,
            "left": null,
            "margin": null,
            "max_height": null,
            "max_width": null,
            "min_height": null,
            "min_width": null,
            "object_fit": null,
            "object_position": null,
            "order": null,
            "overflow": null,
            "overflow_x": null,
            "overflow_y": null,
            "padding": null,
            "right": null,
            "top": null,
            "visibility": null,
            "width": null
          }
        },
        "55e1cbc2f023495291cbdf4d66d9a167": {
          "model_module": "@jupyter-widgets/controls",
          "model_name": "ProgressStyleModel",
          "model_module_version": "1.5.0",
          "state": {
            "_model_module": "@jupyter-widgets/controls",
            "_model_module_version": "1.5.0",
            "_model_name": "ProgressStyleModel",
            "_view_count": null,
            "_view_module": "@jupyter-widgets/base",
            "_view_module_version": "1.2.0",
            "_view_name": "StyleView",
            "bar_color": null,
            "description_width": ""
          }
        },
        "256bd963f50d4e9aa24150ae99706c45": {
          "model_module": "@jupyter-widgets/base",
          "model_name": "LayoutModel",
          "model_module_version": "1.2.0",
          "state": {
            "_model_module": "@jupyter-widgets/base",
            "_model_module_version": "1.2.0",
            "_model_name": "LayoutModel",
            "_view_count": null,
            "_view_module": "@jupyter-widgets/base",
            "_view_module_version": "1.2.0",
            "_view_name": "LayoutView",
            "align_content": null,
            "align_items": null,
            "align_self": null,
            "border": null,
            "bottom": null,
            "display": null,
            "flex": null,
            "flex_flow": null,
            "grid_area": null,
            "grid_auto_columns": null,
            "grid_auto_flow": null,
            "grid_auto_rows": null,
            "grid_column": null,
            "grid_gap": null,
            "grid_row": null,
            "grid_template_areas": null,
            "grid_template_columns": null,
            "grid_template_rows": null,
            "height": null,
            "justify_content": null,
            "justify_items": null,
            "left": null,
            "margin": null,
            "max_height": null,
            "max_width": null,
            "min_height": null,
            "min_width": null,
            "object_fit": null,
            "object_position": null,
            "order": null,
            "overflow": null,
            "overflow_x": null,
            "overflow_y": null,
            "padding": null,
            "right": null,
            "top": null,
            "visibility": null,
            "width": null
          }
        },
        "c5ded431ce774eeebddffb6f308bafbb": {
          "model_module": "@jupyter-widgets/controls",
          "model_name": "DescriptionStyleModel",
          "model_module_version": "1.5.0",
          "state": {
            "_model_module": "@jupyter-widgets/controls",
            "_model_module_version": "1.5.0",
            "_model_name": "DescriptionStyleModel",
            "_view_count": null,
            "_view_module": "@jupyter-widgets/base",
            "_view_module_version": "1.2.0",
            "_view_name": "StyleView",
            "description_width": ""
          }
        },
        "b2ad72ecb8794c379a5f0caa8631f4c0": {
          "model_module": "@jupyter-widgets/controls",
          "model_name": "HBoxModel",
          "model_module_version": "1.5.0",
          "state": {
            "_dom_classes": [],
            "_model_module": "@jupyter-widgets/controls",
            "_model_module_version": "1.5.0",
            "_model_name": "HBoxModel",
            "_view_count": null,
            "_view_module": "@jupyter-widgets/controls",
            "_view_module_version": "1.5.0",
            "_view_name": "HBoxView",
            "box_style": "",
            "children": [
              "IPY_MODEL_9e57516bffcd43e7ab66896e199d2ad7",
              "IPY_MODEL_979483ace44f4aa989bda7e925f786be",
              "IPY_MODEL_7262013ec941457a995c7efa8389df10"
            ],
            "layout": "IPY_MODEL_8f09f78a6a3545199ddd3fa776d5da4e"
          }
        },
        "9e57516bffcd43e7ab66896e199d2ad7": {
          "model_module": "@jupyter-widgets/controls",
          "model_name": "HTMLModel",
          "model_module_version": "1.5.0",
          "state": {
            "_dom_classes": [],
            "_model_module": "@jupyter-widgets/controls",
            "_model_module_version": "1.5.0",
            "_model_name": "HTMLModel",
            "_view_count": null,
            "_view_module": "@jupyter-widgets/controls",
            "_view_module_version": "1.5.0",
            "_view_name": "HTMLView",
            "description": "",
            "description_tooltip": null,
            "layout": "IPY_MODEL_53b76a1692c9416a8f29fc244f7fdf62",
            "placeholder": "​",
            "style": "IPY_MODEL_4ddd112c5c264db6a953f1c6d32e4227",
            "value": "Shuffling ~/tensorflow_datasets/glue/mrpc/2.0.0.incomplete5YLKMQ/glue-train.tfrecord*...:   0%"
          }
        },
        "979483ace44f4aa989bda7e925f786be": {
          "model_module": "@jupyter-widgets/controls",
          "model_name": "FloatProgressModel",
          "model_module_version": "1.5.0",
          "state": {
            "_dom_classes": [],
            "_model_module": "@jupyter-widgets/controls",
            "_model_module_version": "1.5.0",
            "_model_name": "FloatProgressModel",
            "_view_count": null,
            "_view_module": "@jupyter-widgets/controls",
            "_view_module_version": "1.5.0",
            "_view_name": "ProgressView",
            "bar_style": "",
            "description": "",
            "description_tooltip": null,
            "layout": "IPY_MODEL_66993f48491e4cb4bf815728cbd229c5",
            "max": 3668,
            "min": 0,
            "orientation": "horizontal",
            "style": "IPY_MODEL_06376409d9ee4a3c9460b972eb385360",
            "value": 3668
          }
        },
        "7262013ec941457a995c7efa8389df10": {
          "model_module": "@jupyter-widgets/controls",
          "model_name": "HTMLModel",
          "model_module_version": "1.5.0",
          "state": {
            "_dom_classes": [],
            "_model_module": "@jupyter-widgets/controls",
            "_model_module_version": "1.5.0",
            "_model_name": "HTMLModel",
            "_view_count": null,
            "_view_module": "@jupyter-widgets/controls",
            "_view_module_version": "1.5.0",
            "_view_name": "HTMLView",
            "description": "",
            "description_tooltip": null,
            "layout": "IPY_MODEL_feb0a16d255d4a90b0e39a353c15b3a0",
            "placeholder": "​",
            "style": "IPY_MODEL_e83e8d17801048ac8dd623314b883d7c",
            "value": " 0/3668 [00:00&lt;?, ? examples/s]"
          }
        },
        "8f09f78a6a3545199ddd3fa776d5da4e": {
          "model_module": "@jupyter-widgets/base",
          "model_name": "LayoutModel",
          "model_module_version": "1.2.0",
          "state": {
            "_model_module": "@jupyter-widgets/base",
            "_model_module_version": "1.2.0",
            "_model_name": "LayoutModel",
            "_view_count": null,
            "_view_module": "@jupyter-widgets/base",
            "_view_module_version": "1.2.0",
            "_view_name": "LayoutView",
            "align_content": null,
            "align_items": null,
            "align_self": null,
            "border": null,
            "bottom": null,
            "display": null,
            "flex": null,
            "flex_flow": null,
            "grid_area": null,
            "grid_auto_columns": null,
            "grid_auto_flow": null,
            "grid_auto_rows": null,
            "grid_column": null,
            "grid_gap": null,
            "grid_row": null,
            "grid_template_areas": null,
            "grid_template_columns": null,
            "grid_template_rows": null,
            "height": null,
            "justify_content": null,
            "justify_items": null,
            "left": null,
            "margin": null,
            "max_height": null,
            "max_width": null,
            "min_height": null,
            "min_width": null,
            "object_fit": null,
            "object_position": null,
            "order": null,
            "overflow": null,
            "overflow_x": null,
            "overflow_y": null,
            "padding": null,
            "right": null,
            "top": null,
            "visibility": "hidden",
            "width": null
          }
        },
        "53b76a1692c9416a8f29fc244f7fdf62": {
          "model_module": "@jupyter-widgets/base",
          "model_name": "LayoutModel",
          "model_module_version": "1.2.0",
          "state": {
            "_model_module": "@jupyter-widgets/base",
            "_model_module_version": "1.2.0",
            "_model_name": "LayoutModel",
            "_view_count": null,
            "_view_module": "@jupyter-widgets/base",
            "_view_module_version": "1.2.0",
            "_view_name": "LayoutView",
            "align_content": null,
            "align_items": null,
            "align_self": null,
            "border": null,
            "bottom": null,
            "display": null,
            "flex": null,
            "flex_flow": null,
            "grid_area": null,
            "grid_auto_columns": null,
            "grid_auto_flow": null,
            "grid_auto_rows": null,
            "grid_column": null,
            "grid_gap": null,
            "grid_row": null,
            "grid_template_areas": null,
            "grid_template_columns": null,
            "grid_template_rows": null,
            "height": null,
            "justify_content": null,
            "justify_items": null,
            "left": null,
            "margin": null,
            "max_height": null,
            "max_width": null,
            "min_height": null,
            "min_width": null,
            "object_fit": null,
            "object_position": null,
            "order": null,
            "overflow": null,
            "overflow_x": null,
            "overflow_y": null,
            "padding": null,
            "right": null,
            "top": null,
            "visibility": null,
            "width": null
          }
        },
        "4ddd112c5c264db6a953f1c6d32e4227": {
          "model_module": "@jupyter-widgets/controls",
          "model_name": "DescriptionStyleModel",
          "model_module_version": "1.5.0",
          "state": {
            "_model_module": "@jupyter-widgets/controls",
            "_model_module_version": "1.5.0",
            "_model_name": "DescriptionStyleModel",
            "_view_count": null,
            "_view_module": "@jupyter-widgets/base",
            "_view_module_version": "1.2.0",
            "_view_name": "StyleView",
            "description_width": ""
          }
        },
        "66993f48491e4cb4bf815728cbd229c5": {
          "model_module": "@jupyter-widgets/base",
          "model_name": "LayoutModel",
          "model_module_version": "1.2.0",
          "state": {
            "_model_module": "@jupyter-widgets/base",
            "_model_module_version": "1.2.0",
            "_model_name": "LayoutModel",
            "_view_count": null,
            "_view_module": "@jupyter-widgets/base",
            "_view_module_version": "1.2.0",
            "_view_name": "LayoutView",
            "align_content": null,
            "align_items": null,
            "align_self": null,
            "border": null,
            "bottom": null,
            "display": null,
            "flex": null,
            "flex_flow": null,
            "grid_area": null,
            "grid_auto_columns": null,
            "grid_auto_flow": null,
            "grid_auto_rows": null,
            "grid_column": null,
            "grid_gap": null,
            "grid_row": null,
            "grid_template_areas": null,
            "grid_template_columns": null,
            "grid_template_rows": null,
            "height": null,
            "justify_content": null,
            "justify_items": null,
            "left": null,
            "margin": null,
            "max_height": null,
            "max_width": null,
            "min_height": null,
            "min_width": null,
            "object_fit": null,
            "object_position": null,
            "order": null,
            "overflow": null,
            "overflow_x": null,
            "overflow_y": null,
            "padding": null,
            "right": null,
            "top": null,
            "visibility": null,
            "width": null
          }
        },
        "06376409d9ee4a3c9460b972eb385360": {
          "model_module": "@jupyter-widgets/controls",
          "model_name": "ProgressStyleModel",
          "model_module_version": "1.5.0",
          "state": {
            "_model_module": "@jupyter-widgets/controls",
            "_model_module_version": "1.5.0",
            "_model_name": "ProgressStyleModel",
            "_view_count": null,
            "_view_module": "@jupyter-widgets/base",
            "_view_module_version": "1.2.0",
            "_view_name": "StyleView",
            "bar_color": null,
            "description_width": ""
          }
        },
        "feb0a16d255d4a90b0e39a353c15b3a0": {
          "model_module": "@jupyter-widgets/base",
          "model_name": "LayoutModel",
          "model_module_version": "1.2.0",
          "state": {
            "_model_module": "@jupyter-widgets/base",
            "_model_module_version": "1.2.0",
            "_model_name": "LayoutModel",
            "_view_count": null,
            "_view_module": "@jupyter-widgets/base",
            "_view_module_version": "1.2.0",
            "_view_name": "LayoutView",
            "align_content": null,
            "align_items": null,
            "align_self": null,
            "border": null,
            "bottom": null,
            "display": null,
            "flex": null,
            "flex_flow": null,
            "grid_area": null,
            "grid_auto_columns": null,
            "grid_auto_flow": null,
            "grid_auto_rows": null,
            "grid_column": null,
            "grid_gap": null,
            "grid_row": null,
            "grid_template_areas": null,
            "grid_template_columns": null,
            "grid_template_rows": null,
            "height": null,
            "justify_content": null,
            "justify_items": null,
            "left": null,
            "margin": null,
            "max_height": null,
            "max_width": null,
            "min_height": null,
            "min_width": null,
            "object_fit": null,
            "object_position": null,
            "order": null,
            "overflow": null,
            "overflow_x": null,
            "overflow_y": null,
            "padding": null,
            "right": null,
            "top": null,
            "visibility": null,
            "width": null
          }
        },
        "e83e8d17801048ac8dd623314b883d7c": {
          "model_module": "@jupyter-widgets/controls",
          "model_name": "DescriptionStyleModel",
          "model_module_version": "1.5.0",
          "state": {
            "_model_module": "@jupyter-widgets/controls",
            "_model_module_version": "1.5.0",
            "_model_name": "DescriptionStyleModel",
            "_view_count": null,
            "_view_module": "@jupyter-widgets/base",
            "_view_module_version": "1.2.0",
            "_view_name": "StyleView",
            "description_width": ""
          }
        },
        "5c397afc79aa45f1a1b561e62542803b": {
          "model_module": "@jupyter-widgets/controls",
          "model_name": "HBoxModel",
          "model_module_version": "1.5.0",
          "state": {
            "_dom_classes": [],
            "_model_module": "@jupyter-widgets/controls",
            "_model_module_version": "1.5.0",
            "_model_name": "HBoxModel",
            "_view_count": null,
            "_view_module": "@jupyter-widgets/controls",
            "_view_module_version": "1.5.0",
            "_view_name": "HBoxView",
            "box_style": "",
            "children": [
              "IPY_MODEL_f816a0dfda874ace89f3330ac3fb8b73",
              "IPY_MODEL_bc454e4418754bf7ab65ef11ab51e010",
              "IPY_MODEL_b7a91b9e047f4459ac68a876551bd1e7"
            ],
            "layout": "IPY_MODEL_d8074aaed5d0416a87a04523689a99af"
          }
        },
        "f816a0dfda874ace89f3330ac3fb8b73": {
          "model_module": "@jupyter-widgets/controls",
          "model_name": "HTMLModel",
          "model_module_version": "1.5.0",
          "state": {
            "_dom_classes": [],
            "_model_module": "@jupyter-widgets/controls",
            "_model_module_version": "1.5.0",
            "_model_name": "HTMLModel",
            "_view_count": null,
            "_view_module": "@jupyter-widgets/controls",
            "_view_module_version": "1.5.0",
            "_view_name": "HTMLView",
            "description": "",
            "description_tooltip": null,
            "layout": "IPY_MODEL_7b3f2b1ff859483181961e51a219ed8f",
            "placeholder": "​",
            "style": "IPY_MODEL_dd42ab607f93470da7416dbf73813f29",
            "value": "Generating validation examples...:  46%"
          }
        },
        "bc454e4418754bf7ab65ef11ab51e010": {
          "model_module": "@jupyter-widgets/controls",
          "model_name": "FloatProgressModel",
          "model_module_version": "1.5.0",
          "state": {
            "_dom_classes": [],
            "_model_module": "@jupyter-widgets/controls",
            "_model_module_version": "1.5.0",
            "_model_name": "FloatProgressModel",
            "_view_count": null,
            "_view_module": "@jupyter-widgets/controls",
            "_view_module_version": "1.5.0",
            "_view_name": "ProgressView",
            "bar_style": "",
            "description": "",
            "description_tooltip": null,
            "layout": "IPY_MODEL_ba5cd8c93f60475e8c5b2a4c2a542d8c",
            "max": 408,
            "min": 0,
            "orientation": "horizontal",
            "style": "IPY_MODEL_241a540fb48f427f9984023c7372411d",
            "value": 408
          }
        },
        "b7a91b9e047f4459ac68a876551bd1e7": {
          "model_module": "@jupyter-widgets/controls",
          "model_name": "HTMLModel",
          "model_module_version": "1.5.0",
          "state": {
            "_dom_classes": [],
            "_model_module": "@jupyter-widgets/controls",
            "_model_module_version": "1.5.0",
            "_model_name": "HTMLModel",
            "_view_count": null,
            "_view_module": "@jupyter-widgets/controls",
            "_view_module_version": "1.5.0",
            "_view_name": "HTMLView",
            "description": "",
            "description_tooltip": null,
            "layout": "IPY_MODEL_5a73866caf71486f8b6708870c6dab28",
            "placeholder": "​",
            "style": "IPY_MODEL_c6e5f4eca38b41fc8d01a287c8f19362",
            "value": " 189/408 [00:00&lt;00:00, 1883.93 examples/s]"
          }
        },
        "d8074aaed5d0416a87a04523689a99af": {
          "model_module": "@jupyter-widgets/base",
          "model_name": "LayoutModel",
          "model_module_version": "1.2.0",
          "state": {
            "_model_module": "@jupyter-widgets/base",
            "_model_module_version": "1.2.0",
            "_model_name": "LayoutModel",
            "_view_count": null,
            "_view_module": "@jupyter-widgets/base",
            "_view_module_version": "1.2.0",
            "_view_name": "LayoutView",
            "align_content": null,
            "align_items": null,
            "align_self": null,
            "border": null,
            "bottom": null,
            "display": null,
            "flex": null,
            "flex_flow": null,
            "grid_area": null,
            "grid_auto_columns": null,
            "grid_auto_flow": null,
            "grid_auto_rows": null,
            "grid_column": null,
            "grid_gap": null,
            "grid_row": null,
            "grid_template_areas": null,
            "grid_template_columns": null,
            "grid_template_rows": null,
            "height": null,
            "justify_content": null,
            "justify_items": null,
            "left": null,
            "margin": null,
            "max_height": null,
            "max_width": null,
            "min_height": null,
            "min_width": null,
            "object_fit": null,
            "object_position": null,
            "order": null,
            "overflow": null,
            "overflow_x": null,
            "overflow_y": null,
            "padding": null,
            "right": null,
            "top": null,
            "visibility": "hidden",
            "width": null
          }
        },
        "7b3f2b1ff859483181961e51a219ed8f": {
          "model_module": "@jupyter-widgets/base",
          "model_name": "LayoutModel",
          "model_module_version": "1.2.0",
          "state": {
            "_model_module": "@jupyter-widgets/base",
            "_model_module_version": "1.2.0",
            "_model_name": "LayoutModel",
            "_view_count": null,
            "_view_module": "@jupyter-widgets/base",
            "_view_module_version": "1.2.0",
            "_view_name": "LayoutView",
            "align_content": null,
            "align_items": null,
            "align_self": null,
            "border": null,
            "bottom": null,
            "display": null,
            "flex": null,
            "flex_flow": null,
            "grid_area": null,
            "grid_auto_columns": null,
            "grid_auto_flow": null,
            "grid_auto_rows": null,
            "grid_column": null,
            "grid_gap": null,
            "grid_row": null,
            "grid_template_areas": null,
            "grid_template_columns": null,
            "grid_template_rows": null,
            "height": null,
            "justify_content": null,
            "justify_items": null,
            "left": null,
            "margin": null,
            "max_height": null,
            "max_width": null,
            "min_height": null,
            "min_width": null,
            "object_fit": null,
            "object_position": null,
            "order": null,
            "overflow": null,
            "overflow_x": null,
            "overflow_y": null,
            "padding": null,
            "right": null,
            "top": null,
            "visibility": null,
            "width": null
          }
        },
        "dd42ab607f93470da7416dbf73813f29": {
          "model_module": "@jupyter-widgets/controls",
          "model_name": "DescriptionStyleModel",
          "model_module_version": "1.5.0",
          "state": {
            "_model_module": "@jupyter-widgets/controls",
            "_model_module_version": "1.5.0",
            "_model_name": "DescriptionStyleModel",
            "_view_count": null,
            "_view_module": "@jupyter-widgets/base",
            "_view_module_version": "1.2.0",
            "_view_name": "StyleView",
            "description_width": ""
          }
        },
        "ba5cd8c93f60475e8c5b2a4c2a542d8c": {
          "model_module": "@jupyter-widgets/base",
          "model_name": "LayoutModel",
          "model_module_version": "1.2.0",
          "state": {
            "_model_module": "@jupyter-widgets/base",
            "_model_module_version": "1.2.0",
            "_model_name": "LayoutModel",
            "_view_count": null,
            "_view_module": "@jupyter-widgets/base",
            "_view_module_version": "1.2.0",
            "_view_name": "LayoutView",
            "align_content": null,
            "align_items": null,
            "align_self": null,
            "border": null,
            "bottom": null,
            "display": null,
            "flex": null,
            "flex_flow": null,
            "grid_area": null,
            "grid_auto_columns": null,
            "grid_auto_flow": null,
            "grid_auto_rows": null,
            "grid_column": null,
            "grid_gap": null,
            "grid_row": null,
            "grid_template_areas": null,
            "grid_template_columns": null,
            "grid_template_rows": null,
            "height": null,
            "justify_content": null,
            "justify_items": null,
            "left": null,
            "margin": null,
            "max_height": null,
            "max_width": null,
            "min_height": null,
            "min_width": null,
            "object_fit": null,
            "object_position": null,
            "order": null,
            "overflow": null,
            "overflow_x": null,
            "overflow_y": null,
            "padding": null,
            "right": null,
            "top": null,
            "visibility": null,
            "width": null
          }
        },
        "241a540fb48f427f9984023c7372411d": {
          "model_module": "@jupyter-widgets/controls",
          "model_name": "ProgressStyleModel",
          "model_module_version": "1.5.0",
          "state": {
            "_model_module": "@jupyter-widgets/controls",
            "_model_module_version": "1.5.0",
            "_model_name": "ProgressStyleModel",
            "_view_count": null,
            "_view_module": "@jupyter-widgets/base",
            "_view_module_version": "1.2.0",
            "_view_name": "StyleView",
            "bar_color": null,
            "description_width": ""
          }
        },
        "5a73866caf71486f8b6708870c6dab28": {
          "model_module": "@jupyter-widgets/base",
          "model_name": "LayoutModel",
          "model_module_version": "1.2.0",
          "state": {
            "_model_module": "@jupyter-widgets/base",
            "_model_module_version": "1.2.0",
            "_model_name": "LayoutModel",
            "_view_count": null,
            "_view_module": "@jupyter-widgets/base",
            "_view_module_version": "1.2.0",
            "_view_name": "LayoutView",
            "align_content": null,
            "align_items": null,
            "align_self": null,
            "border": null,
            "bottom": null,
            "display": null,
            "flex": null,
            "flex_flow": null,
            "grid_area": null,
            "grid_auto_columns": null,
            "grid_auto_flow": null,
            "grid_auto_rows": null,
            "grid_column": null,
            "grid_gap": null,
            "grid_row": null,
            "grid_template_areas": null,
            "grid_template_columns": null,
            "grid_template_rows": null,
            "height": null,
            "justify_content": null,
            "justify_items": null,
            "left": null,
            "margin": null,
            "max_height": null,
            "max_width": null,
            "min_height": null,
            "min_width": null,
            "object_fit": null,
            "object_position": null,
            "order": null,
            "overflow": null,
            "overflow_x": null,
            "overflow_y": null,
            "padding": null,
            "right": null,
            "top": null,
            "visibility": null,
            "width": null
          }
        },
        "c6e5f4eca38b41fc8d01a287c8f19362": {
          "model_module": "@jupyter-widgets/controls",
          "model_name": "DescriptionStyleModel",
          "model_module_version": "1.5.0",
          "state": {
            "_model_module": "@jupyter-widgets/controls",
            "_model_module_version": "1.5.0",
            "_model_name": "DescriptionStyleModel",
            "_view_count": null,
            "_view_module": "@jupyter-widgets/base",
            "_view_module_version": "1.2.0",
            "_view_name": "StyleView",
            "description_width": ""
          }
        },
        "8777dc0a62cd40e6a31f004c3ec325ad": {
          "model_module": "@jupyter-widgets/controls",
          "model_name": "HBoxModel",
          "model_module_version": "1.5.0",
          "state": {
            "_dom_classes": [],
            "_model_module": "@jupyter-widgets/controls",
            "_model_module_version": "1.5.0",
            "_model_name": "HBoxModel",
            "_view_count": null,
            "_view_module": "@jupyter-widgets/controls",
            "_view_module_version": "1.5.0",
            "_view_name": "HBoxView",
            "box_style": "",
            "children": [
              "IPY_MODEL_aaea22eeca2c4401b5b5fa8174361a7d",
              "IPY_MODEL_662b390d257c4eb88120d3a4f92f3f95",
              "IPY_MODEL_574a39cdd99e4ed2ba7a8c7577b782e4"
            ],
            "layout": "IPY_MODEL_ab7d0d5056534257b6568e6e3b72d23c"
          }
        },
        "aaea22eeca2c4401b5b5fa8174361a7d": {
          "model_module": "@jupyter-widgets/controls",
          "model_name": "HTMLModel",
          "model_module_version": "1.5.0",
          "state": {
            "_dom_classes": [],
            "_model_module": "@jupyter-widgets/controls",
            "_model_module_version": "1.5.0",
            "_model_name": "HTMLModel",
            "_view_count": null,
            "_view_module": "@jupyter-widgets/controls",
            "_view_module_version": "1.5.0",
            "_view_name": "HTMLView",
            "description": "",
            "description_tooltip": null,
            "layout": "IPY_MODEL_884941ff2cc44adba566db5c400e125b",
            "placeholder": "​",
            "style": "IPY_MODEL_b2ed4ca68d3e43feb159146e084c47cb",
            "value": "Shuffling ~/tensorflow_datasets/glue/mrpc/2.0.0.incomplete5YLKMQ/glue-validation.tfrecord*...:   0%"
          }
        },
        "662b390d257c4eb88120d3a4f92f3f95": {
          "model_module": "@jupyter-widgets/controls",
          "model_name": "FloatProgressModel",
          "model_module_version": "1.5.0",
          "state": {
            "_dom_classes": [],
            "_model_module": "@jupyter-widgets/controls",
            "_model_module_version": "1.5.0",
            "_model_name": "FloatProgressModel",
            "_view_count": null,
            "_view_module": "@jupyter-widgets/controls",
            "_view_module_version": "1.5.0",
            "_view_name": "ProgressView",
            "bar_style": "",
            "description": "",
            "description_tooltip": null,
            "layout": "IPY_MODEL_363f5125c57e4f2285f9066c302b12a1",
            "max": 408,
            "min": 0,
            "orientation": "horizontal",
            "style": "IPY_MODEL_49bab9e4acc247d784bf35cabfb70a4e",
            "value": 408
          }
        },
        "574a39cdd99e4ed2ba7a8c7577b782e4": {
          "model_module": "@jupyter-widgets/controls",
          "model_name": "HTMLModel",
          "model_module_version": "1.5.0",
          "state": {
            "_dom_classes": [],
            "_model_module": "@jupyter-widgets/controls",
            "_model_module_version": "1.5.0",
            "_model_name": "HTMLModel",
            "_view_count": null,
            "_view_module": "@jupyter-widgets/controls",
            "_view_module_version": "1.5.0",
            "_view_name": "HTMLView",
            "description": "",
            "description_tooltip": null,
            "layout": "IPY_MODEL_d586b9230a0742f7bce9ed1a08f4170e",
            "placeholder": "​",
            "style": "IPY_MODEL_2aa6010f45a34fdeb4677503ac770359",
            "value": " 0/408 [00:00&lt;?, ? examples/s]"
          }
        },
        "ab7d0d5056534257b6568e6e3b72d23c": {
          "model_module": "@jupyter-widgets/base",
          "model_name": "LayoutModel",
          "model_module_version": "1.2.0",
          "state": {
            "_model_module": "@jupyter-widgets/base",
            "_model_module_version": "1.2.0",
            "_model_name": "LayoutModel",
            "_view_count": null,
            "_view_module": "@jupyter-widgets/base",
            "_view_module_version": "1.2.0",
            "_view_name": "LayoutView",
            "align_content": null,
            "align_items": null,
            "align_self": null,
            "border": null,
            "bottom": null,
            "display": null,
            "flex": null,
            "flex_flow": null,
            "grid_area": null,
            "grid_auto_columns": null,
            "grid_auto_flow": null,
            "grid_auto_rows": null,
            "grid_column": null,
            "grid_gap": null,
            "grid_row": null,
            "grid_template_areas": null,
            "grid_template_columns": null,
            "grid_template_rows": null,
            "height": null,
            "justify_content": null,
            "justify_items": null,
            "left": null,
            "margin": null,
            "max_height": null,
            "max_width": null,
            "min_height": null,
            "min_width": null,
            "object_fit": null,
            "object_position": null,
            "order": null,
            "overflow": null,
            "overflow_x": null,
            "overflow_y": null,
            "padding": null,
            "right": null,
            "top": null,
            "visibility": "hidden",
            "width": null
          }
        },
        "884941ff2cc44adba566db5c400e125b": {
          "model_module": "@jupyter-widgets/base",
          "model_name": "LayoutModel",
          "model_module_version": "1.2.0",
          "state": {
            "_model_module": "@jupyter-widgets/base",
            "_model_module_version": "1.2.0",
            "_model_name": "LayoutModel",
            "_view_count": null,
            "_view_module": "@jupyter-widgets/base",
            "_view_module_version": "1.2.0",
            "_view_name": "LayoutView",
            "align_content": null,
            "align_items": null,
            "align_self": null,
            "border": null,
            "bottom": null,
            "display": null,
            "flex": null,
            "flex_flow": null,
            "grid_area": null,
            "grid_auto_columns": null,
            "grid_auto_flow": null,
            "grid_auto_rows": null,
            "grid_column": null,
            "grid_gap": null,
            "grid_row": null,
            "grid_template_areas": null,
            "grid_template_columns": null,
            "grid_template_rows": null,
            "height": null,
            "justify_content": null,
            "justify_items": null,
            "left": null,
            "margin": null,
            "max_height": null,
            "max_width": null,
            "min_height": null,
            "min_width": null,
            "object_fit": null,
            "object_position": null,
            "order": null,
            "overflow": null,
            "overflow_x": null,
            "overflow_y": null,
            "padding": null,
            "right": null,
            "top": null,
            "visibility": null,
            "width": null
          }
        },
        "b2ed4ca68d3e43feb159146e084c47cb": {
          "model_module": "@jupyter-widgets/controls",
          "model_name": "DescriptionStyleModel",
          "model_module_version": "1.5.0",
          "state": {
            "_model_module": "@jupyter-widgets/controls",
            "_model_module_version": "1.5.0",
            "_model_name": "DescriptionStyleModel",
            "_view_count": null,
            "_view_module": "@jupyter-widgets/base",
            "_view_module_version": "1.2.0",
            "_view_name": "StyleView",
            "description_width": ""
          }
        },
        "363f5125c57e4f2285f9066c302b12a1": {
          "model_module": "@jupyter-widgets/base",
          "model_name": "LayoutModel",
          "model_module_version": "1.2.0",
          "state": {
            "_model_module": "@jupyter-widgets/base",
            "_model_module_version": "1.2.0",
            "_model_name": "LayoutModel",
            "_view_count": null,
            "_view_module": "@jupyter-widgets/base",
            "_view_module_version": "1.2.0",
            "_view_name": "LayoutView",
            "align_content": null,
            "align_items": null,
            "align_self": null,
            "border": null,
            "bottom": null,
            "display": null,
            "flex": null,
            "flex_flow": null,
            "grid_area": null,
            "grid_auto_columns": null,
            "grid_auto_flow": null,
            "grid_auto_rows": null,
            "grid_column": null,
            "grid_gap": null,
            "grid_row": null,
            "grid_template_areas": null,
            "grid_template_columns": null,
            "grid_template_rows": null,
            "height": null,
            "justify_content": null,
            "justify_items": null,
            "left": null,
            "margin": null,
            "max_height": null,
            "max_width": null,
            "min_height": null,
            "min_width": null,
            "object_fit": null,
            "object_position": null,
            "order": null,
            "overflow": null,
            "overflow_x": null,
            "overflow_y": null,
            "padding": null,
            "right": null,
            "top": null,
            "visibility": null,
            "width": null
          }
        },
        "49bab9e4acc247d784bf35cabfb70a4e": {
          "model_module": "@jupyter-widgets/controls",
          "model_name": "ProgressStyleModel",
          "model_module_version": "1.5.0",
          "state": {
            "_model_module": "@jupyter-widgets/controls",
            "_model_module_version": "1.5.0",
            "_model_name": "ProgressStyleModel",
            "_view_count": null,
            "_view_module": "@jupyter-widgets/base",
            "_view_module_version": "1.2.0",
            "_view_name": "StyleView",
            "bar_color": null,
            "description_width": ""
          }
        },
        "d586b9230a0742f7bce9ed1a08f4170e": {
          "model_module": "@jupyter-widgets/base",
          "model_name": "LayoutModel",
          "model_module_version": "1.2.0",
          "state": {
            "_model_module": "@jupyter-widgets/base",
            "_model_module_version": "1.2.0",
            "_model_name": "LayoutModel",
            "_view_count": null,
            "_view_module": "@jupyter-widgets/base",
            "_view_module_version": "1.2.0",
            "_view_name": "LayoutView",
            "align_content": null,
            "align_items": null,
            "align_self": null,
            "border": null,
            "bottom": null,
            "display": null,
            "flex": null,
            "flex_flow": null,
            "grid_area": null,
            "grid_auto_columns": null,
            "grid_auto_flow": null,
            "grid_auto_rows": null,
            "grid_column": null,
            "grid_gap": null,
            "grid_row": null,
            "grid_template_areas": null,
            "grid_template_columns": null,
            "grid_template_rows": null,
            "height": null,
            "justify_content": null,
            "justify_items": null,
            "left": null,
            "margin": null,
            "max_height": null,
            "max_width": null,
            "min_height": null,
            "min_width": null,
            "object_fit": null,
            "object_position": null,
            "order": null,
            "overflow": null,
            "overflow_x": null,
            "overflow_y": null,
            "padding": null,
            "right": null,
            "top": null,
            "visibility": null,
            "width": null
          }
        },
        "2aa6010f45a34fdeb4677503ac770359": {
          "model_module": "@jupyter-widgets/controls",
          "model_name": "DescriptionStyleModel",
          "model_module_version": "1.5.0",
          "state": {
            "_model_module": "@jupyter-widgets/controls",
            "_model_module_version": "1.5.0",
            "_model_name": "DescriptionStyleModel",
            "_view_count": null,
            "_view_module": "@jupyter-widgets/base",
            "_view_module_version": "1.2.0",
            "_view_name": "StyleView",
            "description_width": ""
          }
        },
        "723abda053f14b09af81670b68f16984": {
          "model_module": "@jupyter-widgets/controls",
          "model_name": "HBoxModel",
          "model_module_version": "1.5.0",
          "state": {
            "_dom_classes": [],
            "_model_module": "@jupyter-widgets/controls",
            "_model_module_version": "1.5.0",
            "_model_name": "HBoxModel",
            "_view_count": null,
            "_view_module": "@jupyter-widgets/controls",
            "_view_module_version": "1.5.0",
            "_view_name": "HBoxView",
            "box_style": "",
            "children": [
              "IPY_MODEL_bb7f588e738b427db5be0551d950db47",
              "IPY_MODEL_8294c772c71d4e2786f0e57da0d43c75",
              "IPY_MODEL_89685827239c43b8b771741767858e6e"
            ],
            "layout": "IPY_MODEL_b47812dbcd77471482a2b08569a5016c"
          }
        },
        "bb7f588e738b427db5be0551d950db47": {
          "model_module": "@jupyter-widgets/controls",
          "model_name": "HTMLModel",
          "model_module_version": "1.5.0",
          "state": {
            "_dom_classes": [],
            "_model_module": "@jupyter-widgets/controls",
            "_model_module_version": "1.5.0",
            "_model_name": "HTMLModel",
            "_view_count": null,
            "_view_module": "@jupyter-widgets/controls",
            "_view_module_version": "1.5.0",
            "_view_name": "HTMLView",
            "description": "",
            "description_tooltip": null,
            "layout": "IPY_MODEL_3d7d5df3a64a4a20a3192d27402c8719",
            "placeholder": "​",
            "style": "IPY_MODEL_f5d63cb55a7346bfbd2b65de81e7e40f",
            "value": "Generating test examples...:  86%"
          }
        },
        "8294c772c71d4e2786f0e57da0d43c75": {
          "model_module": "@jupyter-widgets/controls",
          "model_name": "FloatProgressModel",
          "model_module_version": "1.5.0",
          "state": {
            "_dom_classes": [],
            "_model_module": "@jupyter-widgets/controls",
            "_model_module_version": "1.5.0",
            "_model_name": "FloatProgressModel",
            "_view_count": null,
            "_view_module": "@jupyter-widgets/controls",
            "_view_module_version": "1.5.0",
            "_view_name": "ProgressView",
            "bar_style": "",
            "description": "",
            "description_tooltip": null,
            "layout": "IPY_MODEL_f080cd8dff05428889b20a94e5392983",
            "max": 1725,
            "min": 0,
            "orientation": "horizontal",
            "style": "IPY_MODEL_6c113f860bd545e7a75a09fb4cfcf227",
            "value": 1725
          }
        },
        "89685827239c43b8b771741767858e6e": {
          "model_module": "@jupyter-widgets/controls",
          "model_name": "HTMLModel",
          "model_module_version": "1.5.0",
          "state": {
            "_dom_classes": [],
            "_model_module": "@jupyter-widgets/controls",
            "_model_module_version": "1.5.0",
            "_model_name": "HTMLModel",
            "_view_count": null,
            "_view_module": "@jupyter-widgets/controls",
            "_view_module_version": "1.5.0",
            "_view_name": "HTMLView",
            "description": "",
            "description_tooltip": null,
            "layout": "IPY_MODEL_01bd03d0ae1e421aaa290e6a9b91d0b0",
            "placeholder": "​",
            "style": "IPY_MODEL_2587ad9914e646ee90c97e592ad7d05e",
            "value": " 1487/1725 [00:00&lt;00:00, 1725.61 examples/s]"
          }
        },
        "b47812dbcd77471482a2b08569a5016c": {
          "model_module": "@jupyter-widgets/base",
          "model_name": "LayoutModel",
          "model_module_version": "1.2.0",
          "state": {
            "_model_module": "@jupyter-widgets/base",
            "_model_module_version": "1.2.0",
            "_model_name": "LayoutModel",
            "_view_count": null,
            "_view_module": "@jupyter-widgets/base",
            "_view_module_version": "1.2.0",
            "_view_name": "LayoutView",
            "align_content": null,
            "align_items": null,
            "align_self": null,
            "border": null,
            "bottom": null,
            "display": null,
            "flex": null,
            "flex_flow": null,
            "grid_area": null,
            "grid_auto_columns": null,
            "grid_auto_flow": null,
            "grid_auto_rows": null,
            "grid_column": null,
            "grid_gap": null,
            "grid_row": null,
            "grid_template_areas": null,
            "grid_template_columns": null,
            "grid_template_rows": null,
            "height": null,
            "justify_content": null,
            "justify_items": null,
            "left": null,
            "margin": null,
            "max_height": null,
            "max_width": null,
            "min_height": null,
            "min_width": null,
            "object_fit": null,
            "object_position": null,
            "order": null,
            "overflow": null,
            "overflow_x": null,
            "overflow_y": null,
            "padding": null,
            "right": null,
            "top": null,
            "visibility": "hidden",
            "width": null
          }
        },
        "3d7d5df3a64a4a20a3192d27402c8719": {
          "model_module": "@jupyter-widgets/base",
          "model_name": "LayoutModel",
          "model_module_version": "1.2.0",
          "state": {
            "_model_module": "@jupyter-widgets/base",
            "_model_module_version": "1.2.0",
            "_model_name": "LayoutModel",
            "_view_count": null,
            "_view_module": "@jupyter-widgets/base",
            "_view_module_version": "1.2.0",
            "_view_name": "LayoutView",
            "align_content": null,
            "align_items": null,
            "align_self": null,
            "border": null,
            "bottom": null,
            "display": null,
            "flex": null,
            "flex_flow": null,
            "grid_area": null,
            "grid_auto_columns": null,
            "grid_auto_flow": null,
            "grid_auto_rows": null,
            "grid_column": null,
            "grid_gap": null,
            "grid_row": null,
            "grid_template_areas": null,
            "grid_template_columns": null,
            "grid_template_rows": null,
            "height": null,
            "justify_content": null,
            "justify_items": null,
            "left": null,
            "margin": null,
            "max_height": null,
            "max_width": null,
            "min_height": null,
            "min_width": null,
            "object_fit": null,
            "object_position": null,
            "order": null,
            "overflow": null,
            "overflow_x": null,
            "overflow_y": null,
            "padding": null,
            "right": null,
            "top": null,
            "visibility": null,
            "width": null
          }
        },
        "f5d63cb55a7346bfbd2b65de81e7e40f": {
          "model_module": "@jupyter-widgets/controls",
          "model_name": "DescriptionStyleModel",
          "model_module_version": "1.5.0",
          "state": {
            "_model_module": "@jupyter-widgets/controls",
            "_model_module_version": "1.5.0",
            "_model_name": "DescriptionStyleModel",
            "_view_count": null,
            "_view_module": "@jupyter-widgets/base",
            "_view_module_version": "1.2.0",
            "_view_name": "StyleView",
            "description_width": ""
          }
        },
        "f080cd8dff05428889b20a94e5392983": {
          "model_module": "@jupyter-widgets/base",
          "model_name": "LayoutModel",
          "model_module_version": "1.2.0",
          "state": {
            "_model_module": "@jupyter-widgets/base",
            "_model_module_version": "1.2.0",
            "_model_name": "LayoutModel",
            "_view_count": null,
            "_view_module": "@jupyter-widgets/base",
            "_view_module_version": "1.2.0",
            "_view_name": "LayoutView",
            "align_content": null,
            "align_items": null,
            "align_self": null,
            "border": null,
            "bottom": null,
            "display": null,
            "flex": null,
            "flex_flow": null,
            "grid_area": null,
            "grid_auto_columns": null,
            "grid_auto_flow": null,
            "grid_auto_rows": null,
            "grid_column": null,
            "grid_gap": null,
            "grid_row": null,
            "grid_template_areas": null,
            "grid_template_columns": null,
            "grid_template_rows": null,
            "height": null,
            "justify_content": null,
            "justify_items": null,
            "left": null,
            "margin": null,
            "max_height": null,
            "max_width": null,
            "min_height": null,
            "min_width": null,
            "object_fit": null,
            "object_position": null,
            "order": null,
            "overflow": null,
            "overflow_x": null,
            "overflow_y": null,
            "padding": null,
            "right": null,
            "top": null,
            "visibility": null,
            "width": null
          }
        },
        "6c113f860bd545e7a75a09fb4cfcf227": {
          "model_module": "@jupyter-widgets/controls",
          "model_name": "ProgressStyleModel",
          "model_module_version": "1.5.0",
          "state": {
            "_model_module": "@jupyter-widgets/controls",
            "_model_module_version": "1.5.0",
            "_model_name": "ProgressStyleModel",
            "_view_count": null,
            "_view_module": "@jupyter-widgets/base",
            "_view_module_version": "1.2.0",
            "_view_name": "StyleView",
            "bar_color": null,
            "description_width": ""
          }
        },
        "01bd03d0ae1e421aaa290e6a9b91d0b0": {
          "model_module": "@jupyter-widgets/base",
          "model_name": "LayoutModel",
          "model_module_version": "1.2.0",
          "state": {
            "_model_module": "@jupyter-widgets/base",
            "_model_module_version": "1.2.0",
            "_model_name": "LayoutModel",
            "_view_count": null,
            "_view_module": "@jupyter-widgets/base",
            "_view_module_version": "1.2.0",
            "_view_name": "LayoutView",
            "align_content": null,
            "align_items": null,
            "align_self": null,
            "border": null,
            "bottom": null,
            "display": null,
            "flex": null,
            "flex_flow": null,
            "grid_area": null,
            "grid_auto_columns": null,
            "grid_auto_flow": null,
            "grid_auto_rows": null,
            "grid_column": null,
            "grid_gap": null,
            "grid_row": null,
            "grid_template_areas": null,
            "grid_template_columns": null,
            "grid_template_rows": null,
            "height": null,
            "justify_content": null,
            "justify_items": null,
            "left": null,
            "margin": null,
            "max_height": null,
            "max_width": null,
            "min_height": null,
            "min_width": null,
            "object_fit": null,
            "object_position": null,
            "order": null,
            "overflow": null,
            "overflow_x": null,
            "overflow_y": null,
            "padding": null,
            "right": null,
            "top": null,
            "visibility": null,
            "width": null
          }
        },
        "2587ad9914e646ee90c97e592ad7d05e": {
          "model_module": "@jupyter-widgets/controls",
          "model_name": "DescriptionStyleModel",
          "model_module_version": "1.5.0",
          "state": {
            "_model_module": "@jupyter-widgets/controls",
            "_model_module_version": "1.5.0",
            "_model_name": "DescriptionStyleModel",
            "_view_count": null,
            "_view_module": "@jupyter-widgets/base",
            "_view_module_version": "1.2.0",
            "_view_name": "StyleView",
            "description_width": ""
          }
        },
        "d5abc105d4fc44c5920cad008c58a575": {
          "model_module": "@jupyter-widgets/controls",
          "model_name": "HBoxModel",
          "model_module_version": "1.5.0",
          "state": {
            "_dom_classes": [],
            "_model_module": "@jupyter-widgets/controls",
            "_model_module_version": "1.5.0",
            "_model_name": "HBoxModel",
            "_view_count": null,
            "_view_module": "@jupyter-widgets/controls",
            "_view_module_version": "1.5.0",
            "_view_name": "HBoxView",
            "box_style": "",
            "children": [
              "IPY_MODEL_3e803e14ea09463c8796f815d1e6fe9a",
              "IPY_MODEL_50578c10092c4a9db9ee485ddfd27100",
              "IPY_MODEL_82f05bdae35e438ebce7c3b5bac0b4c1"
            ],
            "layout": "IPY_MODEL_466901021e204a2cbc36d9bfb0983717"
          }
        },
        "3e803e14ea09463c8796f815d1e6fe9a": {
          "model_module": "@jupyter-widgets/controls",
          "model_name": "HTMLModel",
          "model_module_version": "1.5.0",
          "state": {
            "_dom_classes": [],
            "_model_module": "@jupyter-widgets/controls",
            "_model_module_version": "1.5.0",
            "_model_name": "HTMLModel",
            "_view_count": null,
            "_view_module": "@jupyter-widgets/controls",
            "_view_module_version": "1.5.0",
            "_view_name": "HTMLView",
            "description": "",
            "description_tooltip": null,
            "layout": "IPY_MODEL_192b1230851d40d9800a369eb99574d2",
            "placeholder": "​",
            "style": "IPY_MODEL_0903831aa17a45c5a5f8ab91ad74c433",
            "value": "Shuffling ~/tensorflow_datasets/glue/mrpc/2.0.0.incomplete5YLKMQ/glue-test.tfrecord*...:   0%"
          }
        },
        "50578c10092c4a9db9ee485ddfd27100": {
          "model_module": "@jupyter-widgets/controls",
          "model_name": "FloatProgressModel",
          "model_module_version": "1.5.0",
          "state": {
            "_dom_classes": [],
            "_model_module": "@jupyter-widgets/controls",
            "_model_module_version": "1.5.0",
            "_model_name": "FloatProgressModel",
            "_view_count": null,
            "_view_module": "@jupyter-widgets/controls",
            "_view_module_version": "1.5.0",
            "_view_name": "ProgressView",
            "bar_style": "",
            "description": "",
            "description_tooltip": null,
            "layout": "IPY_MODEL_eae78adc9afc4f869f9a75ccc0582048",
            "max": 1725,
            "min": 0,
            "orientation": "horizontal",
            "style": "IPY_MODEL_3fcaec2f9f3e407ca69ee46f11e3d6e5",
            "value": 1725
          }
        },
        "82f05bdae35e438ebce7c3b5bac0b4c1": {
          "model_module": "@jupyter-widgets/controls",
          "model_name": "HTMLModel",
          "model_module_version": "1.5.0",
          "state": {
            "_dom_classes": [],
            "_model_module": "@jupyter-widgets/controls",
            "_model_module_version": "1.5.0",
            "_model_name": "HTMLModel",
            "_view_count": null,
            "_view_module": "@jupyter-widgets/controls",
            "_view_module_version": "1.5.0",
            "_view_name": "HTMLView",
            "description": "",
            "description_tooltip": null,
            "layout": "IPY_MODEL_4b4220b6ea8e4fc1a98f03b2c57a8094",
            "placeholder": "​",
            "style": "IPY_MODEL_9249a637c2174a298761ff45b009061c",
            "value": " 0/1725 [00:00&lt;?, ? examples/s]"
          }
        },
        "466901021e204a2cbc36d9bfb0983717": {
          "model_module": "@jupyter-widgets/base",
          "model_name": "LayoutModel",
          "model_module_version": "1.2.0",
          "state": {
            "_model_module": "@jupyter-widgets/base",
            "_model_module_version": "1.2.0",
            "_model_name": "LayoutModel",
            "_view_count": null,
            "_view_module": "@jupyter-widgets/base",
            "_view_module_version": "1.2.0",
            "_view_name": "LayoutView",
            "align_content": null,
            "align_items": null,
            "align_self": null,
            "border": null,
            "bottom": null,
            "display": null,
            "flex": null,
            "flex_flow": null,
            "grid_area": null,
            "grid_auto_columns": null,
            "grid_auto_flow": null,
            "grid_auto_rows": null,
            "grid_column": null,
            "grid_gap": null,
            "grid_row": null,
            "grid_template_areas": null,
            "grid_template_columns": null,
            "grid_template_rows": null,
            "height": null,
            "justify_content": null,
            "justify_items": null,
            "left": null,
            "margin": null,
            "max_height": null,
            "max_width": null,
            "min_height": null,
            "min_width": null,
            "object_fit": null,
            "object_position": null,
            "order": null,
            "overflow": null,
            "overflow_x": null,
            "overflow_y": null,
            "padding": null,
            "right": null,
            "top": null,
            "visibility": "hidden",
            "width": null
          }
        },
        "192b1230851d40d9800a369eb99574d2": {
          "model_module": "@jupyter-widgets/base",
          "model_name": "LayoutModel",
          "model_module_version": "1.2.0",
          "state": {
            "_model_module": "@jupyter-widgets/base",
            "_model_module_version": "1.2.0",
            "_model_name": "LayoutModel",
            "_view_count": null,
            "_view_module": "@jupyter-widgets/base",
            "_view_module_version": "1.2.0",
            "_view_name": "LayoutView",
            "align_content": null,
            "align_items": null,
            "align_self": null,
            "border": null,
            "bottom": null,
            "display": null,
            "flex": null,
            "flex_flow": null,
            "grid_area": null,
            "grid_auto_columns": null,
            "grid_auto_flow": null,
            "grid_auto_rows": null,
            "grid_column": null,
            "grid_gap": null,
            "grid_row": null,
            "grid_template_areas": null,
            "grid_template_columns": null,
            "grid_template_rows": null,
            "height": null,
            "justify_content": null,
            "justify_items": null,
            "left": null,
            "margin": null,
            "max_height": null,
            "max_width": null,
            "min_height": null,
            "min_width": null,
            "object_fit": null,
            "object_position": null,
            "order": null,
            "overflow": null,
            "overflow_x": null,
            "overflow_y": null,
            "padding": null,
            "right": null,
            "top": null,
            "visibility": null,
            "width": null
          }
        },
        "0903831aa17a45c5a5f8ab91ad74c433": {
          "model_module": "@jupyter-widgets/controls",
          "model_name": "DescriptionStyleModel",
          "model_module_version": "1.5.0",
          "state": {
            "_model_module": "@jupyter-widgets/controls",
            "_model_module_version": "1.5.0",
            "_model_name": "DescriptionStyleModel",
            "_view_count": null,
            "_view_module": "@jupyter-widgets/base",
            "_view_module_version": "1.2.0",
            "_view_name": "StyleView",
            "description_width": ""
          }
        },
        "eae78adc9afc4f869f9a75ccc0582048": {
          "model_module": "@jupyter-widgets/base",
          "model_name": "LayoutModel",
          "model_module_version": "1.2.0",
          "state": {
            "_model_module": "@jupyter-widgets/base",
            "_model_module_version": "1.2.0",
            "_model_name": "LayoutModel",
            "_view_count": null,
            "_view_module": "@jupyter-widgets/base",
            "_view_module_version": "1.2.0",
            "_view_name": "LayoutView",
            "align_content": null,
            "align_items": null,
            "align_self": null,
            "border": null,
            "bottom": null,
            "display": null,
            "flex": null,
            "flex_flow": null,
            "grid_area": null,
            "grid_auto_columns": null,
            "grid_auto_flow": null,
            "grid_auto_rows": null,
            "grid_column": null,
            "grid_gap": null,
            "grid_row": null,
            "grid_template_areas": null,
            "grid_template_columns": null,
            "grid_template_rows": null,
            "height": null,
            "justify_content": null,
            "justify_items": null,
            "left": null,
            "margin": null,
            "max_height": null,
            "max_width": null,
            "min_height": null,
            "min_width": null,
            "object_fit": null,
            "object_position": null,
            "order": null,
            "overflow": null,
            "overflow_x": null,
            "overflow_y": null,
            "padding": null,
            "right": null,
            "top": null,
            "visibility": null,
            "width": null
          }
        },
        "3fcaec2f9f3e407ca69ee46f11e3d6e5": {
          "model_module": "@jupyter-widgets/controls",
          "model_name": "ProgressStyleModel",
          "model_module_version": "1.5.0",
          "state": {
            "_model_module": "@jupyter-widgets/controls",
            "_model_module_version": "1.5.0",
            "_model_name": "ProgressStyleModel",
            "_view_count": null,
            "_view_module": "@jupyter-widgets/base",
            "_view_module_version": "1.2.0",
            "_view_name": "StyleView",
            "bar_color": null,
            "description_width": ""
          }
        },
        "4b4220b6ea8e4fc1a98f03b2c57a8094": {
          "model_module": "@jupyter-widgets/base",
          "model_name": "LayoutModel",
          "model_module_version": "1.2.0",
          "state": {
            "_model_module": "@jupyter-widgets/base",
            "_model_module_version": "1.2.0",
            "_model_name": "LayoutModel",
            "_view_count": null,
            "_view_module": "@jupyter-widgets/base",
            "_view_module_version": "1.2.0",
            "_view_name": "LayoutView",
            "align_content": null,
            "align_items": null,
            "align_self": null,
            "border": null,
            "bottom": null,
            "display": null,
            "flex": null,
            "flex_flow": null,
            "grid_area": null,
            "grid_auto_columns": null,
            "grid_auto_flow": null,
            "grid_auto_rows": null,
            "grid_column": null,
            "grid_gap": null,
            "grid_row": null,
            "grid_template_areas": null,
            "grid_template_columns": null,
            "grid_template_rows": null,
            "height": null,
            "justify_content": null,
            "justify_items": null,
            "left": null,
            "margin": null,
            "max_height": null,
            "max_width": null,
            "min_height": null,
            "min_width": null,
            "object_fit": null,
            "object_position": null,
            "order": null,
            "overflow": null,
            "overflow_x": null,
            "overflow_y": null,
            "padding": null,
            "right": null,
            "top": null,
            "visibility": null,
            "width": null
          }
        },
        "9249a637c2174a298761ff45b009061c": {
          "model_module": "@jupyter-widgets/controls",
          "model_name": "DescriptionStyleModel",
          "model_module_version": "1.5.0",
          "state": {
            "_model_module": "@jupyter-widgets/controls",
            "_model_module_version": "1.5.0",
            "_model_name": "DescriptionStyleModel",
            "_view_count": null,
            "_view_module": "@jupyter-widgets/base",
            "_view_module_version": "1.2.0",
            "_view_name": "StyleView",
            "description_width": ""
          }
        }
      }
    }
  },
  "cells": [
    {
      "cell_type": "markdown",
      "source": [
        "## What's This Guide\n",
        "\n",
        "This guide shows how to evaluate your model using GLUE benchmark. This guide\n",
        "covers the following topics:\n",
        "- Overview of GLUE benchmark.\n",
        "- Preprocessing GLUE dataset to unify the data format.\n",
        "- Making a model that works for all glue tasks.\n",
        "- Basic setup of the training (finetuning if you load a pretrained model) workflow.\n",
        "- Generate submission files and submit it to GLUE leaderboard."
      ],
      "metadata": {
        "id": "yg4MpJIrmQX1"
      }
    },
    {
      "cell_type": "markdown",
      "source": [
        "## Why Do I Write This Guide\n",
        "\n",
        "I was trying to evaluate my model with GLUE benchmark, but surprisingly I found that despite the popularity of GLUE benchmark, there is no handy tool/tutorial that shows me how that can be achieved. One big question I have is - can I have a unified script that \"just works\" for all GLUE tasks? A followup is - can I generate the GLUE leaderboard submission file with the same script? Finally I wrote this script, and put it in KerasNLP github repo, please check it out at [https://github.com/keras-team/keras-nlp/tree/master/examples/glue_benchmark](https://github.com/keras-team/keras-nlp/tree/master/examples/glue_benchmark). You can plug in any custom model into the script following the guidance, and it's fully compatible with GPU and TPU.\n",
        "\n",
        "While a runnable script is good, it cannot cover enough details without massive, tedious and unreadable comments. That's the reason for me to write this post."
      ],
      "metadata": {
        "id": "xe2xCT0QomAL"
      }
    },
    {
      "cell_type": "markdown",
      "source": [
        "## Overview of GLUE Benchmark\n",
        "\n"
      ],
      "metadata": {
        "id": "RApvYOv1oZO3"
      }
    },
    {
      "cell_type": "markdown",
      "source": [
        "[GLUE benchmark](https://gluebenchmark.com/) is commonly used to test a model's performance at text understanding. It consists of 10 tasks:\n",
        "\n",
        "1. [CoLA](https://nyu-mll.github.io/CoLA/) (Corpus of Linguistic Acceptability): Predict if the sentence is grammatically correct.\n",
        "\n",
        "1. [SST-2](https://nlp.stanford.edu/sentiment/index.html) (Stanford Sentiment Treebank): Predict the sentiment of a given sentence.\n",
        "\n",
        "1. [MRPC](https://www.microsoft.com/en-us/download/details.aspx?id=52398) (Microsoft Research Paraphrase Corpus): Predict whether a pair of sentences are semantically equivalent.\n",
        "\n",
        "1. [QQP](https://data.quora.com/First-Quora-Dataset-Release-Question-Pairs) (Quora Question Pairs2): Predict whether a pair of questions are semantically equivalent.\n",
        "\n",
        "1. [MNLI](http://www.nyu.edu/projects/bowman/multinli/) (Multi-Genre Natural Language Inference): Predict if the premise entails the hypothesis (entailment), contradicts the hypothesis (contradiction), or neither (neutral).\n",
        "\n",
        "1. [QNLI](https://rajpurkar.github.io/SQuAD-explorer/)(Question-answering Natural Language Inference): Predict if the context sentence contains the answer to the question.\n",
        "\n",
        "1. [RTE](https://aclweb.org/aclwiki/Recognizing_Textual_Entailment)(Recognizing Textual Entailment): Predict if a sentence entails a given hypothesis or not.\n",
        "\n",
        "1. [WNLI](https://cs.nyu.edu/faculty/davise/papers/WinogradSchemas/WS.html)(Winograd Natural Language Inference): Predict if the sentence with the pronoun substituted is entailed by the original sentence.\n",
        "\n",
        "1. [AX](https://gluebenchmark.com/diagnostics)(Diagnostics Main): Evaluate sentence understanding through Natural Language Inference (NLI) problems.\n",
        "\n",
        "1. [STSB](http://ixa2.si.ehu.es/stswiki/index.php/STSbenchmark)(Semantic Textual Similarity Benchmark): Predict the similarity score between 2 sentences.\n",
        "\n",
        "Each task has a dataset split as train, validation and testing, with the exception that MNLI and AX share the same training set.\n",
        "\n",
        "***All except \"STSB\" can be viewed as a text classification task, while \"STSB\" is a\n",
        "text regression task (output a float number in range [0, 5]).***\n",
        "\n",
        "The common approach to use GLUE benchmark is to build your model and train/finetune it on the training set, and evaluate locally with the validation set. Once you are satisfied with the training/validation results, generate predictions on the testing set, and write your predictions to `*.tsv` file (e.g., mrpc.tsv) with the required format. Then you submit a zip file with all `.tsv` files to GLUE leaderboard, then the web will tell you the actual performance on testing dataset. You cannot evaluate on testing dataset locally because the testing label is not publicized."
      ],
      "metadata": {
        "id": "yQUfAF06oiwQ"
      }
    },
    {
      "cell_type": "markdown",
      "source": [
        "## Install/Import Dependencies"
      ],
      "metadata": {
        "id": "d8kgIfdKssPs"
      }
    },
    {
      "cell_type": "code",
      "source": [
        "!pip install -q keras-nlp"
      ],
      "metadata": {
        "id": "wQoCU-mKM78O",
        "colab": {
          "base_uri": "https://localhost:8080/"
        },
        "outputId": "e238fb3f-4c74-4643-f045-c31d762baa60"
      },
      "execution_count": 1,
      "outputs": [
        {
          "output_type": "stream",
          "name": "stdout",
          "text": [
            "\u001b[2K     \u001b[90m━━━━━━━━━━━━━━━━━━━━━━━━━━━━━━━━━━━━━━\u001b[0m \u001b[32m337.5/337.5 KB\u001b[0m \u001b[31m17.2 MB/s\u001b[0m eta \u001b[36m0:00:00\u001b[0m\n",
            "\u001b[2K     \u001b[90m━━━━━━━━━━━━━━━━━━━━━━━━━━━━━━━━━━━━━━━━\u001b[0m \u001b[32m5.8/5.8 MB\u001b[0m \u001b[31m95.4 MB/s\u001b[0m eta \u001b[36m0:00:00\u001b[0m\n",
            "\u001b[2K     \u001b[90m━━━━━━━━━━━━━━━━━━━━━━━━━━━━━━━━━━━━━━━\u001b[0m \u001b[32m588.3/588.3 MB\u001b[0m \u001b[31m2.5 MB/s\u001b[0m eta \u001b[36m0:00:00\u001b[0m\n",
            "\u001b[2K     \u001b[90m━━━━━━━━━━━━━━━━━━━━━━━━━━━━━━━━━━━━━━━━\u001b[0m \u001b[32m5.9/5.9 MB\u001b[0m \u001b[31m52.9 MB/s\u001b[0m eta \u001b[36m0:00:00\u001b[0m\n",
            "\u001b[2K     \u001b[90m━━━━━━━━━━━━━━━━━━━━━━━━━━━━━━━━━━━━━━━\u001b[0m \u001b[32m578.1/578.1 MB\u001b[0m \u001b[31m3.2 MB/s\u001b[0m eta \u001b[36m0:00:00\u001b[0m\n",
            "\u001b[2K     \u001b[90m━━━━━━━━━━━━━━━━━━━━━━━━━━━━━━━━━━━━━━━\u001b[0m \u001b[32m578.1/578.1 MB\u001b[0m \u001b[31m3.1 MB/s\u001b[0m eta \u001b[36m0:00:00\u001b[0m\n",
            "\u001b[2K     \u001b[90m━━━━━━━━━━━━━━━━━━━━━━━━━━━━━━━━━━━━━━━━\u001b[0m \u001b[32m4.6/4.6 MB\u001b[0m \u001b[31m80.1 MB/s\u001b[0m eta \u001b[36m0:00:00\u001b[0m\n",
            "\u001b[?25h"
          ]
        }
      ]
    },
    {
      "cell_type": "code",
      "source": [
        "import os\n",
        "import csv\n",
        "\n",
        "import keras_nlp\n",
        "import numpy as np\n",
        "import tensorflow as tf\n",
        "import tensorflow_datasets as tfds\n",
        "\n",
        "from tensorflow import keras"
      ],
      "metadata": {
        "id": "Rz0JkyL4OhM8"
      },
      "execution_count": 2,
      "outputs": []
    },
    {
      "cell_type": "markdown",
      "source": [
        "## Get GLUE Dataset and Preprocess Data\n",
        "This section discusses about how to download GLUE dataset in a Tensorflow runtime, and preprocess the dataset so that it's ready for training.\n",
        "\n",
        "Let's first define the task we will evaluate. In this guide I am using `mrpc` as a showcase, but you can change it to any glue task."
      ],
      "metadata": {
        "id": "L--aI6lP_szJ"
      }
    },
    {
      "cell_type": "code",
      "source": [
        "task_name = \"mrpc\""
      ],
      "metadata": {
        "id": "HG_vfckYtc_B"
      },
      "execution_count": 3,
      "outputs": []
    },
    {
      "cell_type": "markdown",
      "source": [
        "Then we define a few hyperparameters necessary for data preprocessing."
      ],
      "metadata": {
        "id": "Tr2hyIDFtekI"
      }
    },
    {
      "cell_type": "code",
      "source": [
        "batch_size = 32\n",
        "sequence_length = 512"
      ],
      "metadata": {
        "id": "ZX9mJNK9tmoC"
      },
      "execution_count": 4,
      "outputs": []
    },
    {
      "cell_type": "markdown",
      "source": [
        "### Download GLUE Dataset\n",
        "\n",
        "We download GLUE dataset from Tensorflow Datasets (TFDS). The nice thing is the downloaded dataset is already of type `tf.data.Dataset`, which has good support for parallelism, accelerator optmization and etc. Relative materials can be found [here](https://www.tensorflow.org/datasets/overview).\n",
        "\n",
        "***AX, MNLI_Matched and MNLI_Mismatched*** are special because they share the same training dataset, while they all have its own testing dataset. MNLI_Matched and MNLI_Mismatched also have their own validation dataset, while AX provides no validation dataset."
      ],
      "metadata": {
        "id": "ieVcm0qhumlW"
      }
    },
    {
      "cell_type": "code",
      "source": [
        "if task_name in (\"ax\", \"mnli_matched\", \"mnli_mismatched\"):\n",
        "    train_ds, validation_ds = tfds.load(\n",
        "        \"glue/mnli\",\n",
        "        split=[\"train\", \"validation_matched\"],\n",
        "    )\n",
        "    if task_name == \"ax\":\n",
        "        test_ds = tfds.load(\n",
        "            \"glue/ax\",\n",
        "            split=\"test\",\n",
        "        )\n",
        "\n",
        "    if task_name == \"mnli_matched\":\n",
        "        test_ds = tfds.load(\n",
        "            \"glue/mnli_matched\",\n",
        "            split=\"test\",\n",
        "        )\n",
        "\n",
        "    if task_name == \"mnli_mismatched\":\n",
        "        validation_ds, test_ds = tfds.load(\n",
        "            \"glue/ax\",\n",
        "            split=[\"validation\", \"test\",]\n",
        "        )\n",
        "else:\n",
        "    train_ds, test_ds, validation_ds = tfds.load(\n",
        "        f\"glue/{task_name}\",\n",
        "        split=[\"train\", \"test\", \"validation\"],\n",
        "    )"
      ],
      "metadata": {
        "id": "KZ_MDnuRDG80",
        "colab": {
          "base_uri": "https://localhost:8080/",
          "height": 116,
          "referenced_widgets": [
            "78e390a6874a4fd48bed3129e9a452c1",
            "cd34065d7d3440c8844c44998342307a",
            "2b12d8ff64064425b2cabd13904152a5",
            "9a577e85932543a6af9ccebcda62dc3a",
            "da080ddf90a4481289f79a68f9c7508a",
            "04027d6044684e6eb985a7d670afd862",
            "9479d45833744143811673094e3c710a",
            "b592a9b5805642c28fa72915e04fecae",
            "7f11eac50bf34f16a35a9d642d1ea460",
            "0187b8ef0c92477ebb0007b0c638efe7",
            "bcf85f9d9ac74ceb8093a0b30775d99d",
            "9b35a14c6c52465ba67c514f397b2742",
            "faddeade57384d888212e597e0f7d405",
            "d0c68187a6154a02a4a3071085a5bf7d",
            "9e9b303f432a4ac9b9a57ef77e649c73",
            "7315f51f814d4b28abaa173d2d001817",
            "96ae54e6dd854b86bfc28a874187146a",
            "6c5a039513a54a259f9e9127b17eee9c",
            "ad3575cf46b64f4cb30cc400da95a3ff",
            "37c950acfddf46c5818cc5725fe37dc3",
            "dafc7845964545aaaf4cb95b414a4b70",
            "6097edfc0b564e1aa3b94040468ba1f2",
            "bc67f9c5a7834d34b83b8b0536f5833a",
            "c4aa430965a940b698b9bc23234afc2e",
            "14cbe5bdf51b41d096b4b4d17b12e224",
            "0a0f40f45cc346fd94e0b9943d2214c7",
            "bb9914c3346b41319a79140324ee4548",
            "49c76c46fef44b0792eca1bec81254a0",
            "db2a346f6bac4b3a875f2cc396394395",
            "13023b5d91d54f3ea0149f100d256181",
            "6b3cdd2a3cca499ebeed3ef882324fa3",
            "10a47bafe36849c8933d591f303187b2",
            "561131b7c0484f2f9dddbecd482e500c",
            "7e6cae9b54d4444fa4a0f6e67c52dcca",
            "ec1a0d966f4b44b0811ac667a900e659",
            "013dbc1afe414d96b16f14bd90c6fc5e",
            "3d26ed6fac5c41299baf54aac64e87fa",
            "fa123c4a585d425bb1dc8fa36e26f334",
            "c3c2fca6b61144479e8f3e4b0e982231",
            "776694af7ef246b690b15b477819fdfc",
            "e19499b6e51e4fada2eadf3c40c83b52",
            "55e1cbc2f023495291cbdf4d66d9a167",
            "256bd963f50d4e9aa24150ae99706c45",
            "c5ded431ce774eeebddffb6f308bafbb",
            "b2ad72ecb8794c379a5f0caa8631f4c0",
            "9e57516bffcd43e7ab66896e199d2ad7",
            "979483ace44f4aa989bda7e925f786be",
            "7262013ec941457a995c7efa8389df10",
            "8f09f78a6a3545199ddd3fa776d5da4e",
            "53b76a1692c9416a8f29fc244f7fdf62",
            "4ddd112c5c264db6a953f1c6d32e4227",
            "66993f48491e4cb4bf815728cbd229c5",
            "06376409d9ee4a3c9460b972eb385360",
            "feb0a16d255d4a90b0e39a353c15b3a0",
            "e83e8d17801048ac8dd623314b883d7c",
            "5c397afc79aa45f1a1b561e62542803b",
            "f816a0dfda874ace89f3330ac3fb8b73",
            "bc454e4418754bf7ab65ef11ab51e010",
            "b7a91b9e047f4459ac68a876551bd1e7",
            "d8074aaed5d0416a87a04523689a99af",
            "7b3f2b1ff859483181961e51a219ed8f",
            "dd42ab607f93470da7416dbf73813f29",
            "ba5cd8c93f60475e8c5b2a4c2a542d8c",
            "241a540fb48f427f9984023c7372411d",
            "5a73866caf71486f8b6708870c6dab28",
            "c6e5f4eca38b41fc8d01a287c8f19362",
            "8777dc0a62cd40e6a31f004c3ec325ad",
            "aaea22eeca2c4401b5b5fa8174361a7d",
            "662b390d257c4eb88120d3a4f92f3f95",
            "574a39cdd99e4ed2ba7a8c7577b782e4",
            "ab7d0d5056534257b6568e6e3b72d23c",
            "884941ff2cc44adba566db5c400e125b",
            "b2ed4ca68d3e43feb159146e084c47cb",
            "363f5125c57e4f2285f9066c302b12a1",
            "49bab9e4acc247d784bf35cabfb70a4e",
            "d586b9230a0742f7bce9ed1a08f4170e",
            "2aa6010f45a34fdeb4677503ac770359",
            "723abda053f14b09af81670b68f16984",
            "bb7f588e738b427db5be0551d950db47",
            "8294c772c71d4e2786f0e57da0d43c75",
            "89685827239c43b8b771741767858e6e",
            "b47812dbcd77471482a2b08569a5016c",
            "3d7d5df3a64a4a20a3192d27402c8719",
            "f5d63cb55a7346bfbd2b65de81e7e40f",
            "f080cd8dff05428889b20a94e5392983",
            "6c113f860bd545e7a75a09fb4cfcf227",
            "01bd03d0ae1e421aaa290e6a9b91d0b0",
            "2587ad9914e646ee90c97e592ad7d05e",
            "d5abc105d4fc44c5920cad008c58a575",
            "3e803e14ea09463c8796f815d1e6fe9a",
            "50578c10092c4a9db9ee485ddfd27100",
            "82f05bdae35e438ebce7c3b5bac0b4c1",
            "466901021e204a2cbc36d9bfb0983717",
            "192b1230851d40d9800a369eb99574d2",
            "0903831aa17a45c5a5f8ab91ad74c433",
            "eae78adc9afc4f869f9a75ccc0582048",
            "3fcaec2f9f3e407ca69ee46f11e3d6e5",
            "4b4220b6ea8e4fc1a98f03b2c57a8094",
            "9249a637c2174a298761ff45b009061c"
          ]
        },
        "outputId": "b7b83141-c180-4df3-b409-c19c0badb37e"
      },
      "execution_count": 5,
      "outputs": [
        {
          "output_type": "stream",
          "name": "stdout",
          "text": [
            "Downloading and preparing dataset 1.43 MiB (download: 1.43 MiB, generated: 1.74 MiB, total: 3.17 MiB) to ~/tensorflow_datasets/glue/mrpc/2.0.0...\n"
          ]
        },
        {
          "output_type": "display_data",
          "data": {
            "text/plain": [
              "Dl Completed...: 0 url [00:00, ? url/s]"
            ],
            "application/vnd.jupyter.widget-view+json": {
              "version_major": 2,
              "version_minor": 0,
              "model_id": "78e390a6874a4fd48bed3129e9a452c1"
            }
          },
          "metadata": {}
        },
        {
          "output_type": "display_data",
          "data": {
            "text/plain": [
              "Dl Size...: 0 MiB [00:00, ? MiB/s]"
            ],
            "application/vnd.jupyter.widget-view+json": {
              "version_major": 2,
              "version_minor": 0,
              "model_id": "9b35a14c6c52465ba67c514f397b2742"
            }
          },
          "metadata": {}
        },
        {
          "output_type": "display_data",
          "data": {
            "text/plain": [
              "Generating splits...:   0%|          | 0/3 [00:00<?, ? splits/s]"
            ],
            "application/vnd.jupyter.widget-view+json": {
              "version_major": 2,
              "version_minor": 0,
              "model_id": "bc67f9c5a7834d34b83b8b0536f5833a"
            }
          },
          "metadata": {}
        },
        {
          "output_type": "display_data",
          "data": {
            "text/plain": [
              "Generating train examples...:   0%|          | 0/3668 [00:00<?, ? examples/s]"
            ],
            "application/vnd.jupyter.widget-view+json": {
              "version_major": 2,
              "version_minor": 0,
              "model_id": "7e6cae9b54d4444fa4a0f6e67c52dcca"
            }
          },
          "metadata": {}
        },
        {
          "output_type": "display_data",
          "data": {
            "text/plain": [
              "Shuffling ~/tensorflow_datasets/glue/mrpc/2.0.0.incomplete5YLKMQ/glue-train.tfrecord*...:   0%|          | 0/3…"
            ],
            "application/vnd.jupyter.widget-view+json": {
              "version_major": 2,
              "version_minor": 0,
              "model_id": "b2ad72ecb8794c379a5f0caa8631f4c0"
            }
          },
          "metadata": {}
        },
        {
          "output_type": "display_data",
          "data": {
            "text/plain": [
              "Generating validation examples...:   0%|          | 0/408 [00:00<?, ? examples/s]"
            ],
            "application/vnd.jupyter.widget-view+json": {
              "version_major": 2,
              "version_minor": 0,
              "model_id": "5c397afc79aa45f1a1b561e62542803b"
            }
          },
          "metadata": {}
        },
        {
          "output_type": "display_data",
          "data": {
            "text/plain": [
              "Shuffling ~/tensorflow_datasets/glue/mrpc/2.0.0.incomplete5YLKMQ/glue-validation.tfrecord*...:   0%|          …"
            ],
            "application/vnd.jupyter.widget-view+json": {
              "version_major": 2,
              "version_minor": 0,
              "model_id": "8777dc0a62cd40e6a31f004c3ec325ad"
            }
          },
          "metadata": {}
        },
        {
          "output_type": "display_data",
          "data": {
            "text/plain": [
              "Generating test examples...:   0%|          | 0/1725 [00:00<?, ? examples/s]"
            ],
            "application/vnd.jupyter.widget-view+json": {
              "version_major": 2,
              "version_minor": 0,
              "model_id": "723abda053f14b09af81670b68f16984"
            }
          },
          "metadata": {}
        },
        {
          "output_type": "display_data",
          "data": {
            "text/plain": [
              "Shuffling ~/tensorflow_datasets/glue/mrpc/2.0.0.incomplete5YLKMQ/glue-test.tfrecord*...:   0%|          | 0/17…"
            ],
            "application/vnd.jupyter.widget-view+json": {
              "version_major": 2,
              "version_minor": 0,
              "model_id": "d5abc105d4fc44c5920cad008c58a575"
            }
          },
          "metadata": {}
        },
        {
          "output_type": "stream",
          "name": "stdout",
          "text": [
            "Dataset glue downloaded and prepared to ~/tensorflow_datasets/glue/mrpc/2.0.0. Subsequent calls will reuse this data.\n"
          ]
        }
      ]
    },
    {
      "cell_type": "markdown",
      "source": [
        "### Save The Testing Data Index Order\n",
        "\n",
        "This is required for generating leaderboard submission file. You can skip reading this code for now."
      ],
      "metadata": {
        "id": "04EtUcEBxLx-"
      }
    },
    {
      "cell_type": "code",
      "source": [
        "idx_order = test_ds.map(lambda data: data[\"idx\"])"
      ],
      "metadata": {
        "id": "mj2rbnuMxK6s"
      },
      "execution_count": 6,
      "outputs": []
    },
    {
      "cell_type": "markdown",
      "source": [
        "### Data Unification\n",
        "\n",
        "GLUE datasets come in dictionary format, and each task has its own feature name, such as \"sentence1\" and \"premise\". This data format discrepancy creates complexity on our training, so we standardize the format to simplify the training.\n",
        "\n",
        "For all tasks, after standardization, each data record will have the following format: `(features, label)`, while `features` is a tuple of one element if the task has only one feature, e.g., \"COLA\", and is a tuple of 2 elements if the tasks has 2 featyres, e.g., \"MRPC\". There are no GLUE tasks having >2 features."
      ],
      "metadata": {
        "id": "Lo71eueIvl1c"
      }
    },
    {
      "cell_type": "markdown",
      "source": [
        "Get the feature names for our selected task."
      ],
      "metadata": {
        "id": "BUGxm-bY1gyD"
      }
    },
    {
      "cell_type": "code",
      "source": [
        "FEATURES = {\n",
        "    \"cola\": (\"sentence\",),\n",
        "    \"sst2\": (\"sentence\",),\n",
        "    \"mrpc\": (\"sentence1\", \"sentence2\"),\n",
        "    \"stsb\": (\"sentence1\", \"sentence2\"),\n",
        "    \"rte\": (\"sentence1\", \"sentence2\"),\n",
        "    \"wnli\": (\"sentence1\", \"sentence2\"),\n",
        "    \"mnli\": (\"premise\", \"hypothesis\"),\n",
        "    \"mnli_matched\": (\"premise\", \"hypothesis\"),\n",
        "    \"mnli_mismatched\": (\"premise\", \"hypothesis\"),\n",
        "    \"ax\": (\"premise\", \"hypothesis\"),\n",
        "    \"qnli\": (\"question\", \"question\"),\n",
        "    \"qqp\": (\"question1\", \"question2\"),\n",
        "}"
      ],
      "metadata": {
        "id": "zhLJpCtGBHzd"
      },
      "execution_count": 7,
      "outputs": []
    },
    {
      "cell_type": "code",
      "source": [
        "feature_names = FEATURES[task_name]"
      ],
      "metadata": {
        "id": "xX6cALU3xA2i"
      },
      "execution_count": 8,
      "outputs": []
    },
    {
      "cell_type": "markdown",
      "source": [
        "Define the function doing the standardization - convert the dictionary into (features, label) format. Then use `map` function to apply the standardization."
      ],
      "metadata": {
        "id": "Hm1LPT7o1pUB"
      }
    },
    {
      "cell_type": "code",
      "source": [
        "def split_features(x):\n",
        "    features = tuple([x[name] for name in feature_names])\n",
        "    label = x[\"label\"]\n",
        "    return (features, label)"
      ],
      "metadata": {
        "id": "P6YqdK18CJt4"
      },
      "execution_count": 9,
      "outputs": []
    },
    {
      "cell_type": "code",
      "source": [
        "train_ds = train_ds.map(split_features, num_parallel_calls=tf.data.AUTOTUNE)\n",
        "test_ds = test_ds.map(split_features, num_parallel_calls=tf.data.AUTOTUNE)\n",
        "validation_ds = validation_ds.map(\n",
        "    split_features, num_parallel_calls=tf.data.AUTOTUNE\n",
        ")"
      ],
      "metadata": {
        "id": "7odbIW7CFLj0"
      },
      "execution_count": 10,
      "outputs": []
    },
    {
      "cell_type": "markdown",
      "source": [
        "### Tokenization and Packing\n",
        "\n",
        "NLP models cannot directly work on text input, we need to convert the text input to float vectors. Here we use `keras_nlp.models.BertTokenizer` to do the conversion.\n",
        "\n",
        "Remember our `feature` can be a tuple of 2 strings, we need some way to combine them together. A common approach is to have a `[SEP]` token between two sentences, and put two special token separately at the beginning and end of the combined sentence. For a unified workflow, if the feature has only one string, we skip the `[SEP]` token, but still pad the start and end token. This can be easily approached by `keras_nlp.layers.MultiSegmentPacker`, as shown by the code below."
      ],
      "metadata": {
        "id": "ZevwM4922Chp"
      }
    },
    {
      "cell_type": "code",
      "source": [
        "tokenizer = keras_nlp.models.BertTokenizer.from_preset(\"bert_base_en_uncased\")\n",
        "\n",
        "packer = keras_nlp.layers.MultiSegmentPacker(\n",
        "    start_value=tokenizer.cls_token_id,\n",
        "    end_value=tokenizer.sep_token_id,\n",
        "    pad_value=tokenizer.pad_token_id,\n",
        "    sequence_length=sequence_length,\n",
        ")"
      ],
      "metadata": {
        "id": "YE1KfefimaU4",
        "colab": {
          "base_uri": "https://localhost:8080/"
        },
        "outputId": "bd0e8e8c-2caa-4309-8360-29d1c7ddcd74"
      },
      "execution_count": 11,
      "outputs": [
        {
          "output_type": "stream",
          "name": "stdout",
          "text": [
            "Downloading data from https://storage.googleapis.com/keras-nlp/models/bert_base_en_uncased/v1/vocab.txt\n",
            "231508/231508 [==============================] - 0s 1us/step\n"
          ]
        }
      ]
    },
    {
      "cell_type": "code",
      "source": [
        "def preprocess_fn(feature, label):\n",
        "    tokenized_data = [tokenizer(x) for x in feature]\n",
        "    token_ids, _ = packer(tokenized_data)\n",
        "    padding_mask = (token_ids != tokenizer.pad_token_id)\n",
        "    return {\"token_ids\": token_ids, \"padding_mask\": padding_mask}, label\n"
      ],
      "metadata": {
        "id": "0mos3X7rQvJh"
      },
      "execution_count": 12,
      "outputs": []
    },
    {
      "cell_type": "markdown",
      "source": [
        "After applying the `preprocess_fn`, for all GLUE tasks, each data record is a tuple `(features, label)`, and `features` is a dictionary of format\n",
        "```\n",
        "{\n",
        "    \"token_ids\": a tf.Tensor representing the token ids.\n",
        "    \"padding_mask\": a tf.Tensor representing the mask (0 means the position is masked).\n",
        "}\n",
        "\n",
        "```"
      ],
      "metadata": {
        "id": "lEFj6GUk3mfF"
      }
    },
    {
      "cell_type": "code",
      "source": [
        "train_ds_processed = train_ds.map(preprocess_fn).batch(batch_size).prefetch(tf.data.AUTOTUNE)\n",
        "validation_ds_processed = validation_ds.map(preprocess_fn).batch(batch_size).prefetch(tf.data.AUTOTUNE)\n",
        "test_ds_processed = test_ds.map(preprocess_fn).batch(batch_size).prefetch(tf.data.AUTOTUNE)"
      ],
      "metadata": {
        "id": "2VMeZ6Ergyp2"
      },
      "execution_count": 13,
      "outputs": []
    },
    {
      "cell_type": "markdown",
      "source": [
        "## Define The Model And Set Up Training"
      ],
      "metadata": {
        "id": "Ky7WYCgw4Zhd"
      }
    },
    {
      "cell_type": "markdown",
      "source": [
        "Let's define some hyperparameters for our model."
      ],
      "metadata": {
        "id": "yDXiWmyJ4nrg"
      }
    },
    {
      "cell_type": "code",
      "source": [
        "if task_name == \"stsb\":\n",
        "    num_classes = 1\n",
        "elif task_name in (\n",
        "    \"mnli\",\n",
        "    \"mnli_mismatched\",\n",
        "    \"mnli_matched\",\n",
        "    \"ax\",\n",
        "):\n",
        "    num_classes = 3\n",
        "else:\n",
        "    num_classes = 2\n",
        "\n",
        "feature_dim = 128\n",
        "transformer_intermediate_dim = 128\n",
        "vocab_size = tokenizer.vocabulary_size()\n",
        "learning_rate = 5e-5\n",
        "num_epochs = 6"
      ],
      "metadata": {
        "id": "V0houskWKpGm"
      },
      "execution_count": 19,
      "outputs": []
    },
    {
      "cell_type": "markdown",
      "source": [
        "Then we define the classification model, it's a simple Transformer encoder with one transformer layer and one dense layer. We can build this model with a few lines with KerasNLP offerings.\n",
        "\n",
        "We build the model using Keras functional API, at a high level it's to define a symbolic input, and define your graph to compute the symbolic output, then tell a `keras.Model` the input and output information. For more details, please refer to [this guide](https://keras.io/guides/functional_api/)."
      ],
      "metadata": {
        "id": "Y4aZutU7LD4k"
      }
    },
    {
      "cell_type": "code",
      "source": [
        "token_id_input = keras.Input(\n",
        "    shape=(None,), dtype=\"int32\", name=\"token_ids\"\n",
        ")\n",
        "padding_mask = keras.Input(\n",
        "    shape=(None,), dtype=\"int32\", name=\"padding_mask\"\n",
        ")\n",
        "x = keras.layers.Embedding(\n",
        "    tokenizer.vocabulary_size(),\n",
        "    feature_dim\n",
        ")(token_id_input)\n",
        "x = keras_nlp.layers.TransformerEncoder(\n",
        "    transformer_intermediate_dim,\n",
        "    4,\n",
        "    activation=\"tanh\"\n",
        ")(x, padding_mask=padding_mask)[:, 0, :]\n",
        "x = keras.layers.Dense(num_classes, activation=\"tanh\")(x)\n",
        "\n",
        "inputs = {\n",
        "    \"token_ids\": token_id_input,\n",
        "    \"padding_mask\": padding_mask,\n",
        "}\n",
        "outputs = x\n",
        "classification_model=keras.Model(inputs=inputs, outputs=outputs)"
      ],
      "metadata": {
        "id": "DZN040B6mE3k"
      },
      "execution_count": 21,
      "outputs": []
    },
    {
      "cell_type": "markdown",
      "source": [
        "Define loss function and metrics to track training."
      ],
      "metadata": {
        "id": "9zaOPREHL5BF"
      }
    },
    {
      "cell_type": "code",
      "source": [
        "if task_name == \"stsb\":\n",
        "    loss = keras.losses.MeanSquaredError()\n",
        "    metrics = [keras.metrics.MeanSquaredError()]\n",
        "else:\n",
        "    loss = keras.losses.SparseCategoricalCrossentropy(from_logits=True)\n",
        "    metrics = [keras.metrics.SparseCategoricalAccuracy()]"
      ],
      "metadata": {
        "id": "FhltXGEhimSn"
      },
      "execution_count": 22,
      "outputs": []
    },
    {
      "cell_type": "code",
      "source": [
        "classification_model.compile(\n",
        "    optimizer=keras.optimizers.Adam(learning_rate),\n",
        "    loss=loss,\n",
        "    metrics=metrics,\n",
        ")"
      ],
      "metadata": {
        "id": "94UH57MBiAzk"
      },
      "execution_count": 23,
      "outputs": []
    },
    {
      "cell_type": "code",
      "source": [
        "classification_model.fit(\n",
        "    train_ds_processed,\n",
        "    validation_data=train_ds_processed,\n",
        "    epochs=num_epochs,\n",
        ")"
      ],
      "metadata": {
        "colab": {
          "base_uri": "https://localhost:8080/"
        },
        "id": "L9gEPQdG4JHL",
        "outputId": "5e12c47d-73d0-48bd-a901-af14c3158cac"
      },
      "execution_count": 25,
      "outputs": [
        {
          "output_type": "stream",
          "name": "stdout",
          "text": [
            "Epoch 1/3\n",
            "115/115 [==============================] - 23s 201ms/step - loss: 0.5283 - sparse_categorical_accuracy: 0.6944 - val_loss: 0.4789 - val_sparse_categorical_accuracy: 0.7069\n",
            "Epoch 2/3\n",
            "115/115 [==============================] - 23s 200ms/step - loss: 0.4479 - sparse_categorical_accuracy: 0.7764 - val_loss: 0.3645 - val_sparse_categorical_accuracy: 0.8844\n",
            "Epoch 3/3\n",
            "115/115 [==============================] - 23s 199ms/step - loss: 0.3311 - sparse_categorical_accuracy: 0.8890 - val_loss: 0.2565 - val_sparse_categorical_accuracy: 0.9392\n"
          ]
        },
        {
          "output_type": "execute_result",
          "data": {
            "text/plain": [
              "<keras.callbacks.History at 0x7f3a589c1430>"
            ]
          },
          "metadata": {},
          "execution_count": 25
        }
      ]
    },
    {
      "cell_type": "markdown",
      "source": [
        "## Generate GLUE Leaderboard Submission Files\n",
        "\n",
        "Now we have a trained model! Let's use it to evaluate the testing dataset, and generate the leaderboard submission file.\n",
        "\n",
        "First we define the corresponding file name and label names for each task."
      ],
      "metadata": {
        "id": "2yh-943wL_jO"
      }
    },
    {
      "cell_type": "code",
      "source": [
        "filenames = {\n",
        "    \"cola\": \"CoLA.tsv\",\n",
        "    \"sst2\": \"SST-2.tsv\",\n",
        "    \"mrpc\": \"MRPC.tsv\",\n",
        "    \"qqp\": \"QQP.tsv\",\n",
        "    \"stsb\": \"STS-B.tsv\",\n",
        "    \"mnli_matched\": \"MNLI-m.tsv\",\n",
        "    \"mnli_mismatched\": \"MNLI-mm.tsv\",\n",
        "    \"qnli\": \"QNLI.tsv\",\n",
        "    \"rte\": \"RTE.tsv\",\n",
        "    \"wnli\": \"WNLI.tsv\",\n",
        "    \"ax\": \"AX.tsv\",\n",
        "}\n",
        "\n",
        "labelnames = {\n",
        "    \"mnli_matched\": [\"entailment\", \"neutral\", \"contradiction\"],\n",
        "    \"mnli_mismatched\": [\"entailment\", \"neutral\", \"contradiction\"],\n",
        "    \"ax\": [\"entailment\", \"neutral\", \"contradiction\"],\n",
        "    \"qnli\": [\"entailment\", \"not_entailment\"],\n",
        "    \"rte\": [\"entailment\", \"not_entailment\"],\n",
        "}\n"
      ],
      "metadata": {
        "id": "iZDjHQrIFfro"
      },
      "execution_count": 26,
      "outputs": []
    },
    {
      "cell_type": "markdown",
      "source": [
        "Create an empty file now, we will fill the content soon."
      ],
      "metadata": {
        "id": "hgQvvk1VMVNR"
      }
    },
    {
      "cell_type": "code",
      "source": [
        "submission_directory = \"glue_submissions\"\n",
        "if not os.path.exists(submission_directory):\n",
        "    os.makedirs(submission_directory)\n",
        "filename = submission_directory + \"/\" + filenames[task_name]\n",
        "labelname = labelnames.get(task_name)"
      ],
      "metadata": {
        "id": "HK2e3isnG3Zi"
      },
      "execution_count": 27,
      "outputs": []
    },
    {
      "cell_type": "markdown",
      "source": [
        "Use our model to generate the predictions, then we map the prediction to the right index order. We previously created `idx_order`, now it's coming to the stage!"
      ],
      "metadata": {
        "id": "5GkpKB4mM2x7"
      }
    },
    {
      "cell_type": "code",
      "source": [
        "predictions = classification_model.predict(test_ds_processed)\n",
        "if task_name == \"stsb\":\n",
        "    predictions = np.squeeze(predictions)\n",
        "else:\n",
        "    predictions = np.argmax(predictions, -1)\n",
        "\n",
        "# Map the predictions to the right index order.\n",
        "idx_order = list(idx_order.as_numpy_iterator())\n",
        "contents = [\"\" for _ in idx_order]"
      ],
      "metadata": {
        "colab": {
          "base_uri": "https://localhost:8080/"
        },
        "id": "LOpI-oXHHAKe",
        "outputId": "82d7c2de-0867-46ee-c0b6-acf9f01a99da"
      },
      "execution_count": 28,
      "outputs": [
        {
          "output_type": "stream",
          "name": "stdout",
          "text": [
            "54/54 [==============================] - 7s 97ms/step\n"
          ]
        }
      ]
    },
    {
      "cell_type": "markdown",
      "source": [
        "The last step is to do the right formatting. Some tasks have label in integers, while some tasks have its special string labels such as \"entailment\" and \"not_entailment\" in QNLI. We also write the required headline."
      ],
      "metadata": {
        "id": "c_x0pin7NLJY"
      }
    },
    {
      "cell_type": "code",
      "source": [
        "for idx, pred in zip(idx_order, predictions):\n",
        "    if labelname:\n",
        "        pred_value = labelname[int(pred)]\n",
        "    else:\n",
        "        pred_value = pred\n",
        "        if task_name == \"stsb\":\n",
        "            pred_value = min(pred_value, 5)\n",
        "            pred_value = max(pred_value, 0)\n",
        "            pred_value = f\"{pred_value:.3f}\"\n",
        "    contents[idx] = pred_value\n",
        "\n",
        "with tf.io.gfile.GFile(filename, \"w\") as f:\n",
        "    # GLUE requires a format of index + tab + prediction.\n",
        "    writer = csv.writer(f, delimiter=\"\\t\")\n",
        "    # Write the required headline for GLUE.\n",
        "    writer.writerow([\"index\", \"prediction\"])\n",
        "\n",
        "    for idx, value in enumerate(contents):\n",
        "        writer.writerow([idx, value])"
      ],
      "metadata": {
        "id": "qGSdsvYDHBXI"
      },
      "execution_count": 29,
      "outputs": []
    },
    {
      "cell_type": "markdown",
      "source": [
        "Assume you have `task_name=mrpc`, now you can check its content with the command below."
      ],
      "metadata": {
        "id": "hE-ngrRHNfhy"
      }
    },
    {
      "cell_type": "code",
      "source": [
        "!head -10 glue_submissions/MRPC.tsv"
      ],
      "metadata": {
        "id": "L3Qvcv8oHLma",
        "colab": {
          "base_uri": "https://localhost:8080/"
        },
        "outputId": "e9301874-2521-4c7c-e12a-9c807c5d326a"
      },
      "execution_count": 30,
      "outputs": [
        {
          "output_type": "stream",
          "name": "stdout",
          "text": [
            "index\tprediction\r\n",
            "0\t1\r\n",
            "1\t1\r\n",
            "2\t1\r\n",
            "3\t1\r\n",
            "4\t1\r\n",
            "5\t1\r\n",
            "6\t1\r\n",
            "7\t0\r\n",
            "8\t1\r\n"
          ]
        }
      ]
    },
    {
      "cell_type": "markdown",
      "source": [
        "For a real submission, you have to make a zip file including all tasks. If you just want to evaluate on a single task on testing dataset, you can download the sample submission, and replace the corresponding submission file."
      ],
      "metadata": {
        "id": "XDYMd-L3N9kD"
      }
    },
    {
      "cell_type": "code",
      "source": [
        "!curl -O https://gluebenchmark.com/assets/CBOW.zip\n",
        "!unzip -d sample_submissions/ CBOW.zip\n",
        "!cp glue_submissions/MRPC.tsv sample_submissions/\n",
        "!zip -r submission.zip . -i sample_submissions/*.tsv"
      ],
      "metadata": {
        "colab": {
          "base_uri": "https://localhost:8080/"
        },
        "id": "GK_oioP0YMYY",
        "outputId": "c87afbeb-eb97-41ed-b735-36ea1d3fa808"
      },
      "execution_count": 31,
      "outputs": [
        {
          "output_type": "stream",
          "name": "stdout",
          "text": [
            "  % Total    % Received % Xferd  Average Speed   Time    Time     Time  Current\n",
            "                                 Dload  Upload   Total   Spent    Left  Speed\n",
            "100  632k  100  632k    0     0   809k      0 --:--:-- --:--:-- --:--:--  808k\n",
            "Archive:  CBOW.zip\n",
            "  inflating: sample_submissions/AX.tsv  \n",
            "  inflating: sample_submissions/CoLA.tsv  \n",
            "  inflating: sample_submissions/MNLI-m.tsv  \n",
            "  inflating: sample_submissions/MNLI-mm.tsv  \n",
            "  inflating: sample_submissions/MRPC.tsv  \n",
            "  inflating: sample_submissions/QNLI.tsv  \n",
            "  inflating: sample_submissions/QQP.tsv  \n",
            "  inflating: sample_submissions/RTE.tsv  \n",
            "  inflating: sample_submissions/SST-2.tsv  \n",
            "  inflating: sample_submissions/STS-B.tsv  \n",
            "  inflating: sample_submissions/WNLI.tsv  \n",
            "\tzip warning: name not matched: *.tsv\n",
            "\n",
            "zip error: Nothing to do! (try: zip -r submission.zip . -i *.tsv)\n"
          ]
        }
      ]
    },
    {
      "cell_type": "markdown",
      "source": [
        "You can download the generated `submission.zip` file to your local disk, and submit it via the [official portal](https://gluebenchmark.com/submit). The score will be available ~30s after submission."
      ],
      "metadata": {
        "id": "1galTI0VYyFP"
      }
    },
    {
      "cell_type": "markdown",
      "source": [
        "Congrats!! You have reached the end of the guide, hope you now have a good understanding of GLUE benchmark and how to use it. Again if you are looking for something just working, please check out the [GLUE script](https://github.com/keras-team/keras-nlp/tree/master/examples/glue_benchmark) available in KerasNLP."
      ],
      "metadata": {
        "id": "-0XHHonsOO98"
      }
    }
  ]
}